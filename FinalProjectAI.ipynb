{
  "nbformat": 4,
  "nbformat_minor": 0,
  "metadata": {
    "colab": {
      "provenance": []
    },
    "kernelspec": {
      "name": "python3",
      "display_name": "Python 3"
    },
    "language_info": {
      "name": "python"
    },
    "accelerator": "GPU",
    "gpuClass": "standard"
  },
  "cells": [
    {
      "cell_type": "code",
      "source": [
        "# Mohamed Irsath Abdul Azeez\n",
        "# Final Project : Word prediction using LSTM Neural Network.\n",
        "# Professor : Liang Zhao"
      ],
      "metadata": {
        "id": "vfkonTDRo-l3"
      },
      "execution_count": 1,
      "outputs": []
    },
    {
      "cell_type": "code",
      "source": [
        "\n",
        "# Importing libraries to use in this project\n",
        "\n",
        "from keras.preprocessing.text import Tokenizer\n",
        "from keras.utils import to_categorical\n",
        "from keras.models import Sequential\n",
        "from keras.layers import Dense\n",
        "from keras.layers import LSTM\n",
        "from keras.layers import Embedding\n",
        "import tensorflow as tf\n",
        "import string\n",
        "import numpy as np\n",
        "from keras.utils import to_categorical\n",
        "import matplotlib.pyplot as plt"
      ],
      "metadata": {
        "id": "qaFX0HsLkDKY"
      },
      "execution_count": 2,
      "outputs": []
    },
    {
      "cell_type": "code",
      "execution_count": 3,
      "metadata": {
        "id": "pabRcSzBGqUP"
      },
      "outputs": [],
      "source": [
        "file = open(\"WordsTraining.txt\", \"r\", encoding = \"utf8\")    # opening the file"
      ]
    },
    {
      "cell_type": "code",
      "source": [
        "list = [lines for lines in file]  # get all line by line in the file and add into list\n"
      ],
      "metadata": {
        "id": "KMrch0BIG0-C"
      },
      "execution_count": 4,
      "outputs": []
    },
    {
      "cell_type": "code",
      "source": [
        "for i in range(5): # display first 5 elements in the list\n",
        "  print(list[i])"
      ],
      "metadata": {
        "colab": {
          "base_uri": "https://localhost:8080/"
        },
        "id": "kjxwxUX6Hq4Q",
        "outputId": "ec3db85b-6b28-4bd2-a827-1c30bc74a7f4"
      },
      "execution_count": 5,
      "outputs": [
        {
          "output_type": "stream",
          "name": "stdout",
          "text": [
            "One morning, when Gregor Samsa woke from troubled dreams, he found\n",
            "\n",
            "himself transformed in his bed into a horrible vermin.  He lay on\n",
            "\n",
            "his armour-like back, and if he lifted his head a little he could\n",
            "\n",
            "see his brown belly, slightly domed and divided by arches into stiff\n",
            "\n",
            "sections.  The bedding was hardly able to cover it and seemed ready\n",
            "\n"
          ]
        }
      ]
    },
    {
      "cell_type": "code",
      "source": [
        "data = \"\".join(list)    # new string combining all the words in the list"
      ],
      "metadata": {
        "id": "5xdVJZOaHvz0"
      },
      "execution_count": 6,
      "outputs": []
    },
    {
      "cell_type": "code",
      "source": [
        "len(data)     # length of the data string"
      ],
      "metadata": {
        "colab": {
          "base_uri": "https://localhost:8080/"
        },
        "id": "VWd1tQrbH4_5",
        "outputId": "c71bb238-5c78-4921-bd3c-25b939a6e483"
      },
      "execution_count": 7,
      "outputs": [
        {
          "output_type": "execute_result",
          "data": {
            "text/plain": [
              "119162"
            ]
          },
          "metadata": {},
          "execution_count": 7
        }
      ]
    },
    {
      "cell_type": "code",
      "source": [
        "data = data.replace('\\n', ' ').replace('\\r', ' ').replace('\\ufeff', ' ')  # replacing the specified character with space"
      ],
      "metadata": {
        "id": "XdxZDKm6IaM5"
      },
      "execution_count": 8,
      "outputs": []
    },
    {
      "cell_type": "code",
      "source": [
        "\n",
        "translator = str.maketrans(string.punctuation, ' '*len(string.punctuation)) #map punctuation to space\n",
        "data = data.translate(translator)   # get the string without any punctuation"
      ],
      "metadata": {
        "id": "IrlcWbrgIigP"
      },
      "execution_count": 9,
      "outputs": []
    },
    {
      "cell_type": "code",
      "source": [
        "len(data)"
      ],
      "metadata": {
        "colab": {
          "base_uri": "https://localhost:8080/"
        },
        "id": "6J3IqnBar0dm",
        "outputId": "592fb923-ca96-485c-c0f5-1b9bc29b2037"
      },
      "execution_count": 10,
      "outputs": [
        {
          "output_type": "execute_result",
          "data": {
            "text/plain": [
              "119162"
            ]
          },
          "metadata": {},
          "execution_count": 10
        }
      ]
    },
    {
      "cell_type": "code",
      "source": [
        "# uniqueWords = []    # creating a new list\n",
        "\n",
        "# for i in data.split():\n",
        "#     if i not in uniqueWords:\n",
        "#         uniqueWords.append(i)\n",
        "\n",
        "# data2 = ' '.join(uniqueWords)"
      ],
      "metadata": {
        "id": "w19WZKt2Kmre"
      },
      "execution_count": 11,
      "outputs": []
    },
    {
      "cell_type": "code",
      "source": [
        "# len(uniqueWords) # words"
      ],
      "metadata": {
        "id": "bTf46XuZSHaL"
      },
      "execution_count": 12,
      "outputs": []
    },
    {
      "cell_type": "code",
      "source": [
        "# len(data2)  # characters"
      ],
      "metadata": {
        "id": "m1ofVz7esCIi"
      },
      "execution_count": 13,
      "outputs": []
    },
    {
      "cell_type": "code",
      "source": [
        "tokenizer = Tokenizer()\n",
        "tokenizer.fit_on_texts([data])\n",
        "encodedData = tokenizer.texts_to_sequences([data])[0]"
      ],
      "metadata": {
        "id": "xpPDicYdMRyi"
      },
      "execution_count": 14,
      "outputs": []
    },
    {
      "cell_type": "code",
      "source": [
        "#encodedData"
      ],
      "metadata": {
        "id": "1wl6-lC0SWYv"
      },
      "execution_count": 15,
      "outputs": []
    },
    {
      "cell_type": "code",
      "source": [
        "word_size = len(tokenizer.word_index) + 1\n",
        "print(word_size)"
      ],
      "metadata": {
        "colab": {
          "base_uri": "https://localhost:8080/"
        },
        "id": "g4rBDli8TCd0",
        "outputId": "cccd6f71-41b1-439c-d8c7-5adb29c34adb"
      },
      "execution_count": 16,
      "outputs": [
        {
          "output_type": "stream",
          "name": "stdout",
          "text": [
            "2574\n"
          ]
        }
      ]
    },
    {
      "cell_type": "code",
      "source": [
        "\n",
        "# printing all the unique words from the training set\n",
        "print(tokenizer.word_index)"
      ],
      "metadata": {
        "colab": {
          "base_uri": "https://localhost:8080/"
        },
        "id": "2_I32DJj2-Hx",
        "outputId": "b9a6c531-b9d4-4125-ccb5-f2e3d0ebedbc"
      },
      "execution_count": 17,
      "outputs": [
        {
          "output_type": "stream",
          "name": "stdout",
          "text": [
            "{'the': 1, 'to': 2, 'and': 3, 'he': 4, 'his': 5, 'of': 6, 'was': 7, 'it': 8, 'had': 9, 'in': 10, 'that': 11, 'gregor': 12, 'a': 13, 'as': 14, 'she': 15, 'with': 16, 's': 17, 'him': 18, 'her': 19, 'would': 20, 'not': 21, 'but': 22, 'at': 23, 'for': 24, 'they': 25, 'on': 26, 'all': 27, 'room': 28, 'from': 29, 'could': 30, 'be': 31, 'out': 32, 'have': 33, 'there': 34, 'if': 35, 'father': 36, 'been': 37, 'sister': 38, 'so': 39, 'this': 40, 'i': 41, 'now': 42, 'mother': 43, 'himself': 44, 'door': 45, 'then': 46, 'back': 47, 'up': 48, 'even': 49, 'into': 50, 'what': 51, 'no': 52, 'did': 53, 'one': 54, 'more': 55, 'their': 56, 'when': 57, 'were': 58, 'about': 59, 'them': 60, 't': 61, 'you': 62, 'way': 63, 'only': 64, 'time': 65, 'by': 66, 'than': 67, 'just': 68, 'said': 69, 'little': 70, 'any': 71, 'other': 72, 'do': 73, 'get': 74, 'still': 75, 'first': 76, 'or': 77, 'made': 78, 'go': 79, 'some': 80, 'while': 81, 'see': 82, 'again': 83, 'without': 84, 'like': 85, 'head': 86, 'before': 87, 'much': 88, 'after': 89, 'where': 90, 'chief': 91, 'clerk': 92, 'down': 93, 'open': 94, 'samsa': 95, 'which': 96, 'very': 97, 'we': 98, 'who': 99, 'thought': 100, 'well': 101, 'over': 102, 'went': 103, 'come': 104, 'away': 105, 'family': 106, 'left': 107, 'an': 108, 'soon': 109, 'came': 110, 'too': 111, 'quite': 112, 'let': 113, 'though': 114, 'bed': 115, 'looked': 116, 'how': 117, 'everything': 118, 'something': 119, 'day': 120, 'wanted': 121, 'against': 122, 'two': 123, 'seemed': 124, 'is': 125, 'parents': 126, 'being': 127, 'work': 128, 'round': 129, 'things': 130, 'three': 131, 'grete': 132, 'can': 133, 'gentlemen': 134, 'body': 135, 'able': 136, 'because': 137, 'make': 138, 'already': 139, 'really': 140, 'mr': 141, 'morning': 142, 'look': 143, 'slowly': 144, 'long': 145, 'side': 146, 'floor': 147, 'hand': 148, 'onto': 149, 'got': 150, 'my': 151, 'legs': 152, 'used': 153, 'never': 154, 'better': 155, 'enough': 156, 'think': 157, 'through': 158, 'flat': 159, 'around': 160, 'lay': 161, 'off': 162, 'although': 163, 'table': 164, 'turned': 165, 'window': 166, 'heard': 167, 'feel': 168, 'right': 169, 'eyes': 170, 'home': 171, 'become': 172, 'hands': 173, 'under': 174, 'here': 175, 'good': 176, 'its': 177, 'whole': 178, 'longer': 179, 'always': 180, 'must': 181, 'began': 182, 'once': 183, 'll': 184, 'possible': 185, 'next': 186, 'perhaps': 187, 'nothing': 188, 'almost': 189, 'took': 190, 'say': 191, 'evening': 192, 'straight': 193, 'living': 194, 'herself': 195, 'me': 196, 'know': 197, 'should': 198, 'voice': 199, 'each': 200, 'might': 201, 'front': 202, 'couch': 203, 'hardly': 204, 'your': 205, 'move': 206, 'same': 207, 'help': 208, 'opened': 209, 'immediately': 210, 'asked': 211, 'chair': 212, 'women': 213, 'behind': 214, 'happened': 215, 'times': 216, 'felt': 217, 'business': 218, 'furniture': 219, 'probably': 220, 'm': 221, 'often': 222, 'became': 223, 'course': 224, 'also': 225, 'taken': 226, 'sat': 227, 'sleep': 228, 'doing': 229, 'food': 230, 'these': 231, 'chest': 232, 'put': 233, 'called': 234, 'anything': 235, 'arms': 236, 'held': 237, 'stood': 238, 'attention': 239, 'pressed': 240, 'face': 241, 'found': 242, 'life': 243, 'close': 244, 'money': 245, 'certainly': 246, 'seen': 247, 'hear': 248, 'until': 249, 'playing': 250, 'towards': 251, 'hard': 252, 'tried': 253, 'pushed': 254, 'saw': 255, 'quickly': 256, 'd': 257, 'especially': 258, 'clock': 259, 'later': 260, 'ever': 261, 'words': 262, 'done': 263, 'don': 264, 'forward': 265, 'new': 266, 're': 267, 'every': 268, 'leave': 269, 'reason': 270, 'understand': 271, 'take': 272, 'old': 273, 'violin': 274, 'pain': 275, 'making': 276, 'didn': 277, 'boss': 278, 'thing': 279, 'moving': 280, 'set': 281, 'want': 282, 'give': 283, 'most': 284, 'keep': 285, 'last': 286, 'stay': 287, 'moved': 288, 'remained': 289, 'least': 290, 'us': 291, 'kitchen': 292, 'clear': 293, 'ran': 294, 'key': 295, 'eat': 296, 'middle': 297, 'moment': 298, 'state': 299, 'however': 300, 'effort': 301, 'own': 302, 'whether': 303, 'doors': 304, 'night': 305, 'themselves': 306, 'finally': 307, 'despite': 308, 'will': 309, 'quiet': 310, 'mrs': 311, 'few': 312, 'great': 313, 'turn': 314, 'looking': 315, 'upright': 316, 'covered': 317, 'present': 318, 'shut': 319, 'stopped': 320, 've': 321, 'train': 322, 'told': 323, 'desk': 324, 'together': 325, 'another': 326, 'drawers': 327, 'half': 328, 'seven': 329, 'completely': 330, 'noticed': 331, 'carefully': 332, 'dressed': 333, 'fell': 334, 'clearly': 335, 'use': 336, 'far': 337, 'why': 338, 'suddenly': 339, 'since': 340, 'tears': 341, 'realised': 342, 'taking': 343, 'going': 344, 'everyone': 345, 'charwoman': 346, 'cleaner': 347, 'slightly': 348, 'couldn': 349, 'position': 350, 'anyone': 351, 'place': 352, 'eating': 353, 'notice': 354, 'fall': 355, 'yes': 356, 'noise': 357, 'having': 358, 'word': 359, 'peace': 360, 'bring': 361, 'sign': 362, 'others': 363, 'force': 364, 'kept': 365, 'loud': 366, 'maid': 367, 'across': 368, 'needed': 369, 'knew': 370, 'hours': 371, 'speak': 372, 'please': 373, 'else': 374, 'nearly': 375, 'job': 376, 'condition': 377, 'hurried': 378, 'lock': 379, 'mouth': 380, 'leant': 381, 'several': 382, 'uniform': 383, 'finished': 384, 'doorway': 385, 'closed': 386, 'stand': 387, 'rest': 388, 'between': 389, 'walls': 390, 'spread': 391, 'nice': 392, 'lower': 393, 'god': 394, 'different': 395, 'white': 396, 'getting': 397, 'during': 398, 'maybe': 399, 'years': 400, 'o': 401, 'man': 402, 'ill': 403, 'doctor': 404, 'hurriedly': 405, 'near': 406, 'full': 407, 'conversation': 408, 'need': 409, 'both': 410, 'breakfast': 411, 'instead': 412, 'serious': 413, 'difficult': 414, 'part': 415, 'turning': 416, 'carry': 417, 'earlier': 418, 'order': 419, 'calm': 420, 'expected': 421, 'sound': 422, 'question': 423, 'simply': 424, 'easy': 425, 'strength': 426, 'knowing': 427, 'sight': 428, 'hall': 429, 'kind': 430, 'breath': 431, 'ground': 432, 'chance': 433, 'reached': 434, 'pleasure': 435, 'end': 436, 'fully': 437, 'light': 438, 'ceiling': 439, 'actually': 440, 'dish': 441, 'sometimes': 442, 'music': 443, 'totally': 444, 'tired': 445, 'crawl': 446, 'lifted': 447, 'picture': 448, 'forget': 449, 'unable': 450, 'sleeping': 451, 'oh': 452, 'people': 453, 'early': 454, 'whenever': 455, 'are': 456, 'try': 457, 'given': 458, 'tell': 459, 'sort': 460, 'five': 461, 'alarm': 462, 'past': 463, 'quarter': 464, 'fresh': 465, 'office': 466, 'wrong': 467, 'struck': 468, 'leaving': 469, 'aware': 470, 'habit': 471, 'lying': 472, 'caused': 473, 'slightest': 474, 'free': 475, 'painfully': 476, 'air': 477, 'unfortunately': 478, 'street': 479, 'carpet': 480, 'find': 481, 'someone': 482, 'anyway': 483, 'sure': 484, 'year': 485, 'gave': 486, 'listen': 487, 'listening': 488, 'hold': 489, 'meal': 490, 'landing': 491, 'earn': 492, 'impossible': 493, 'foot': 494, 'rushed': 495, 'lost': 496, 'forgotten': 497, 'running': 498, 'flew': 499, 'milk': 500, 'crawling': 501, 'days': 502, 'bent': 503, 'sheet': 504, 'meant': 505, 'many': 506, 'wasn': 507, 'human': 508, 'cut': 509, 'threw': 510, 'wouldn': 511, 'friendly': 512, 'overcome': 513, 'gone': 514, 'pay': 515, 'quietly': 516, 'rush': 517, 'fact': 518, 'usual': 519, 'shocked': 520, 'outside': 521, 'short': 522, 'sides': 523, 'throw': 524, 'learned': 525, 'easily': 526, 'followed': 527, 'harder': 528, 'consideration': 529, 'raised': 530, 'happen': 531, 'patient': 532, 'locked': 533, 'steps': 534, 'necessary': 535, 'show': 536, 'stayed': 537, 'idea': 538, 'glad': 539, 'seriously': 540, 'speaking': 541, 'late': 542, 'beside': 543, 'alright': 544, 'nobody': 545, 'wait': 546, 'loudly': 547, 'holding': 548, 'using': 549, 'start': 550, 'disappeared': 551, 'along': 552, 'wall': 553, 'enormous': 554, 'urge': 555, 'spare': 556, 'stick': 557, 'pulled': 558, 'stop': 559, 'allowed': 560, 'intentions': 561, 'slammed': 562, 'filled': 563, 'either': 564, 'forced': 565, 'surprise': 566, 'carried': 567, 'startled': 568, 'asleep': 569, 'broom': 570, 'send': 571, 'indeed': 572, 'silent': 573, 'slow': 574, 'coming': 575, 'writing': 576, 'immobile': 577, 'shouted': 578, 'apple': 579, 'sit': 580, 'appeared': 581, 'gentleman': 582, 'brown': 583, 'ready': 584, 'small': 585, 'four': 586, 'traveling': 587, 'above': 588, 'hung': 589, 'lady': 590, 'fur': 591, 'hat': 592, 'raising': 593, 'heavy': 594, 'arm': 595, 'bit': 596, 'slight': 597, 'drew': 598, 'touched': 599, 'live': 600, 'ought': 601, 'best': 602, 'talking': 603, 'hope': 604, 'change': 605, 'forwards': 606, 'catch': 607, 'entirely': 608, 'somebody': 609, 'somewhere': 610, 'answer': 611, 'saying': 612, 'gently': 613, 'answered': 614, 'remove': 615, 'travelling': 616, 'disturbed': 617, 'thoughts': 618, 'sensible': 619, 'today': 620, 'push': 621, 'those': 622, 'control': 623, 'itself': 624, 'trying': 625, 'direction': 626, 'hit': 627, 'pushing': 628, 'whatever': 629, 'view': 630, 'confidence': 631, 'entire': 632, 'concern': 633, 'strong': 634, 'mind': 635, 'careful': 636, 'call': 637, 'difficulty': 638, 'smile': 639, 'decision': 640, 'highly': 641, 'employees': 642, 'annoyed': 643, 'fallen': 644, 'has': 645, 'isn': 646, 'evenings': 647, 'working': 648, 'amazed': 649, 'worry': 650, 'happening': 651, 'astonished': 652, 'seem': 653, 'animal': 654, 'entrance': 655, 'locksmith': 656, 'skirts': 657, 'situation': 658, 'teeth': 659, 'lack': 660, 'break': 661, 'wide': 662, 'movement': 663, 'important': 664, 'reading': 665, 'exactly': 666, 'respect': 667, 'our': 668, 'started': 669, 'stretched': 670, 'save': 671, 'mood': 672, 'future': 673, 'talk': 674, 'backwards': 675, 'self': 676, 'newspaper': 677, 'drive': 678, 'merely': 679, 'tip': 680, 'obviously': 681, 'dark': 682, 'crawled': 683, 'darkness': 684, 'such': 685, 'waited': 686, 'empty': 687, 'nonetheless': 688, 'spent': 689, 'bear': 690, 'anxiously': 691, 'rather': 692, 'feet': 693, 'brought': 694, 'month': 695, 'breathe': 696, 'becoming': 697, 'dinner': 698, 'fetch': 699, 'decided': 700, 'appearance': 701, 'high': 702, 'stepped': 703, 'broke': 704, 'arrived': 705, 'coat': 706, 'pockets': 707, 'friends': 708, 'bedroom': 709, 'briefly': 710, 'corner': 711, 'rented': 712, 'rid': 713, 'horrible': 714, 'belly': 715, 'stiff': 716, 'proper': 717, 'peacefully': 718, 'samples': 719, 'recently': 720, 'showed': 721, 'rain': 722, 'sad': 723, 'rolled': 724, 'top': 725, 'bad': 726, 'lift': 727, 'cold': 728, 'slid': 729, 'salesmen': 730, 'sitting': 731, 'spot': 732, 'ago': 733, 'hearing': 734, 'debt': 735, 'six': 736, 'big': 737, 'true': 738, 'deeply': 739, 'lively': 740, 'avoid': 741, 'anger': 742, 'report': 743, 'understanding': 744, 'extremely': 745, 'suspicious': 746, 'yet': 747, 'company': 748, 'apart': 749, 'knock': 750, 'deep': 751, 'inside': 752, 'mixed': 753, 'properly': 754, 'explanation': 755, 'knocking': 756, 'opening': 757, 'consider': 758, 'remembered': 759, 'simple': 760, 'broad': 761, 'directions': 762, 'stretch': 763, 'managed': 764, 'weight': 765, 'occurred': 766, 'injured': 767, 'afraid': 768, 'watching': 769, 'bringing': 770, 'narrow': 771, 'lightly': 772, 'total': 773, 'ask': 774, 'falling': 775, 'raise': 776, 'forth': 777, 'caught': 778, 'firm': 779, 'spend': 780, 'upset': 781, 'wants': 782, 'town': 783, 'explaining': 784, 'silence': 785, 'crying': 786, 'intention': 787, 'suitable': 788, 'behaviour': 789, 'causing': 790, 'employer': 791, 'immediate': 792, 'am': 793, 'giving': 794, 'wish': 795, 'nor': 796, 'waste': 797, 'learn': 798, 'sir': 799, 'shocking': 800, 'suffer': 801, 'sent': 802, 'calmly': 803, 'contrast': 804, 'drawn': 805, 'meanwhile': 806, 'flowed': 807, 'following': 808, 'efforts': 809, 'double': 810, 'occupied': 811, 'hair': 812, 'grey': 813, 'line': 814, 'large': 815, 'remember': 816, 'usually': 817, 'partly': 818, 'shoulders': 819, 'secret': 820, 'sudden': 821, 'waiting': 822, 'convinced': 823, 'provide': 824, 'persuade': 825, 'understood': 826, 'landed': 827, 'outstretched': 828, 'sake': 829, 'coffee': 830, 'fled': 831, 'relatively': 832, 'picked': 833, 'appeals': 834, 'hissing': 835, 'distance': 836, 'further': 837, 'fast': 838, 'shove': 839, 'heavily': 840, 'feeling': 841, 'smell': 842, 'normally': 843, 'enter': 844, 'toe': 845, 'remain': 846, 'uneasy': 847, 'regret': 848, 'hunger': 849, 'greatest': 850, 'test': 851, 'watched': 852, 'realise': 853, 'bare': 854, 'cheese': 855, 'comfortable': 856, 'liked': 857, 'finger': 858, 'eaten': 859, 'midday': 860, 'news': 861, 'delay': 862, 'ate': 863, 'misfortune': 864, 'despair': 865, 'success': 866, 'earned': 867, 'warm': 868, 'fond': 869, 'conservatory': 870, 'christmas': 871, 'continue': 872, 'pull': 873, 'repeated': 874, 'lot': 875, 'interest': 876, 'nodded': 877, 'closer': 878, 'strain': 879, 'sofa': 880, 'child': 881, 'clothes': 882, 'experienced': 883, 'easier': 884, 'carrying': 885, 'improvement': 886, 'letting': 887, 'entertaining': 888, 'dare': 889, 'thrown': 890, 'insist': 891, 'admit': 892, 'worn': 893, 'changed': 894, 'chase': 895, 'screamed': 896, 'shaking': 897, 'death': 898, 'mean': 899, 'standing': 900, 'gold': 901, 'buttons': 902, 'cap': 903, 'movements': 904, 'contrary': 905, 'absolutely': 906, 'dust': 907, 'clean': 908, 'chairs': 909, 'play': 910, 'beards': 911, 'hurry': 912, 'smiled': 913, 'played': 914, 'hallway': 915, 'young': 916, 'neck': 917, 'dead': 918, 'daughter': 919, 'letters': 920, 'woke': 921, 'dreams': 922, 'thin': 923, 'size': 924, 'dream': 925, 'familiar': 926, 'collection': 927, 'salesman': 928, 'frame': 929, 'fitted': 930, 'dull': 931, 'weather': 932, 'drops': 933, 'hitting': 934, 'pane': 935, 'chosen': 936, 'curse': 937, 'worries': 938, 'itch': 939, 'makes': 940, 'stupid': 941, 'instance': 942, 'house': 943, 'breakfasts': 944, 'definitely': 945, 'rung': 946, 'slept': 947, 'mad': 948, 'particularly': 949, 'assistant': 950, 'fifteen': 951, 'service': 952, 'accuse': 953, 'son': 954, 'hungrier': 955, 'cautious': 956, 'painful': 957, 'explain': 958, 'circumstances': 959, 'thank': 960, 'wooden': 961, 'members': 962, 'fist': 963, 'aren': 964, 'putting': 965, 'individual': 966, 'whispered': 967, 'beg': 968, 'acquired': 969, 'conclusions': 970, 'matter': 971, 'covers': 972, 'blow': 973, 'moreover': 974, 'bend': 975, 'imagine': 976, 'gather': 977, 'sensitive': 978, 'eventually': 979, 'miracle': 980, 'price': 981, 'sacrifice': 982, 'remind': 983, 'direct': 984, 'fog': 985, 'breathing': 986, 'real': 987, 'task': 988, 'main': 989, 'load': 990, 'swang': 991, 'ten': 992, 'froze': 993, 'visitor': 994, 'couple': 995, 'enquiries': 996, 'innocent': 997, 'rubbed': 998, 'reply': 999, 'polished': 1000, 'boots': 1001, 'continued': 1002, 'believe': 1003, 'week': 1004, 'paper': 1005, 'relaxation': 1006, 'fretsaw': 1007, 'hanging': 1008, 'ourselves': 1009, 'stubborn': 1010, 'unwell': 1011, 'fortunately': 1012, 'cry': 1013, 'danger': 1014, 'abandoning': 1015, 'excuse': 1016, 'sacked': 1017, 'worried': 1018, 'yourself': 1019, 'unnecessary': 1020, 'fail': 1021, 'unheard': 1022, 'behalf': 1023, 'person': 1024, 'showing': 1025, 'failure': 1026, 'appear': 1027, 'stubbornness': 1028, 'intended': 1029, 'cause': 1030, 'grant': 1031, 'forgetting': 1032, 'attack': 1033, 'haven': 1034, 'staying': 1035, 'eight': 1036, 'insistent': 1037, 'curious': 1038, 'climb': 1039, 'swing': 1040, 'tightly': 1041, 'calmed': 1042, 'surely': 1043, 'cried': 1044, 'quick': 1045, 'spoke': 1046, 'anna': 1047, 'girls': 1048, 'surprising': 1049, 'judge': 1050, 'whispering': 1051, 'adhesive': 1052, 'rested': 1053, 'grasp': 1054, 'jaw': 1055, 'ignoring': 1056, 'damage': 1057, 'excitedly': 1058, 'concentration': 1059, 'handle': 1060, 'entering': 1061, 'sounded': 1062, 'driven': 1063, 'steady': 1064, 'unfolded': 1065, 'sank': 1066, 'fists': 1067, 'wanting': 1068, 'shook': 1069, 'bolted': 1070, 'hospital': 1071, 'windows': 1072, 'piercing': 1073, 'washing': 1074, 'newspapers': 1075, 'opposite': 1076, 'stairs': 1077, 'below': 1078, 'achieved': 1079, 'removed': 1080, 'travellers': 1081, 'particular': 1082, 'overview': 1083, 'exhausted': 1084, 'lips': 1085, 'trembling': 1086, 'panic': 1087, 'stairway': 1088, 'besides': 1089, 'won': 1090, 'banister': 1091, 'believing': 1092, 'swayed': 1093, 'jumped': 1094, 'fingers': 1095, 'hurrying': 1096, 'jaws': 1097, 'screaming': 1098, 'chin': 1099, 'run': 1100, 'overcoat': 1101, 'stamped': 1102, 'noises': 1103, 'choice': 1104, 'frequent': 1105, 'unbearable': 1106, 'confused': 1107, 'pleased': 1108, 'space': 1109, 'experience': 1110, 'regard': 1111, 'stuck': 1112, 'woken': 1113, 'afterwards': 1114, 'hadn': 1115, 'impression': 1116, 'leading': 1117, 'electric': 1118, 'badly': 1119, 'dragged': 1120, 'pieces': 1121, 'bread': 1122, 'disappointment': 1123, 'tender': 1124, 'worked': 1125, 'taste': 1126, 'crack': 1127, 'pride': 1128, 'frightening': 1129, 'arrange': 1130, 'shame': 1131, 'passed': 1132, 'frequently': 1133, 'led': 1134, 'opportunity': 1135, 'stranger': 1136, 'hungry': 1137, 'draw': 1138, 'splashed': 1139, 'vegetables': 1140, 'sauce': 1141, 'dry': 1142, 'water': 1143, 'permanently': 1144, 'aside': 1145, 'placed': 1146, 'injuries': 1147, 'hurt': 1148, 'less': 1149, 'foods': 1150, 'suffocating': 1151, 'received': 1152, 'distress': 1153, 'comment': 1154, 'cleared': 1155, 'directly': 1156, 'rooms': 1157, 'meals': 1158, 'hour': 1159, 'receive': 1160, 'thanks': 1161, 'prospects': 1162, 'cash': 1163, 'collapsed': 1164, 'reduced': 1165, 'gratitude': 1166, 'unlike': 1167, 'plan': 1168, 'interrupted': 1169, 'explanations': 1170, 'keeping': 1171, 'unexpected': 1172, 'holiday': 1173, 'elderly': 1174, 'suffered': 1175, 'struggling': 1176, 'wearing': 1177, 'helping': 1178, 'leather': 1179, 'hot': 1180, 'lie': 1181, 'known': 1182, 'lived': 1183, 'twice': 1184, 'tidied': 1185, 'burdensome': 1186, 'unpleasant': 1187, 'transformation': 1188, 'staring': 1189, 'threatened': 1190, 'arrangement': 1191, 'appreciated': 1192, 'somewhat': 1193, 'listened': 1194, 'closely': 1195, 'removing': 1196, 'helped': 1197, 'unless': 1198, 'heaviest': 1199, 'warnings': 1200, 'minutes': 1201, 'abandoned': 1202, 'months': 1203, 'age': 1204, 'refused': 1205, 'dissuade': 1206, 'poked': 1207, 'considerate': 1208, 'fro': 1209, 'school': 1210, 'glass': 1211, 'watch': 1212, 'shall': 1213, 'spoken': 1214, 'various': 1215, 'bottles': 1216, 'reproach': 1217, 'confusion': 1218, 'fainted': 1219, 'disappear': 1220, 'neglected': 1221, 'laying': 1222, 'nightgown': 1223, 'walk': 1224, 'companions': 1225, 'collar': 1226, 'bank': 1227, 'forgot': 1228, 'shock': 1229, 'point': 1230, 'lodged': 1231, 'dared': 1232, 'injury': 1233, 'current': 1234, 'permission': 1235, 'hotel': 1236, 'shop': 1237, 'wake': 1238, 'sewing': 1239, 'exchange': 1240, 'peaceful': 1241, 'tug': 1242, 'ear': 1243, 'smaller': 1244, 'sold': 1245, 'strangers': 1246, 'cheek': 1247, 'whom': 1248, 'shown': 1249, 'indifferent': 1250, 'dirt': 1251, 'cleaning': 1252, 'alone': 1253, 'closing': 1254, 'amazement': 1255, 'crossed': 1256, 'failed': 1257, 'dung': 1258, 'beetle': 1259, 'indicating': 1260, 'toward': 1261, 'prepared': 1262, 'spit': 1263, 'anywhere': 1264, 'lain': 1265, 'meat': 1266, 'bowed': 1267, 'throughout': 1268, 'love': 1269, 'begin': 1270, 'seat': 1271, 'everywhere': 1272, 'obvious': 1273, 'beautiful': 1274, 'expression': 1275, 'emotion': 1276, 'lap': 1277, 'beds': 1278, 'tenants': 1279, 'action': 1280, 'ahead': 1281, 'weak': 1282, 'brother': 1283, 'endure': 1284, 'certainty': 1285, 'vigorously': 1286, 'willing': 1287, 'glance': 1288, 'weaker': 1289, 'slamming': 1290, 'corpse': 1291, 'men': 1292, 'wife': 1293, 'irritation': 1294, 'tram': 1295, 'troubled': 1296, 'transformed': 1297, 'vermin': 1298, 'armour': 1299, 'domed': 1300, 'divided': 1301, 'arches': 1302, 'sections': 1303, 'bedding': 1304, 'cover': 1305, 'slide': 1306, 'pitifully': 1307, 'compared': 1308, 'waved': 1309, 'helplessly': 1310, 'textile': 1311, 'illustrated': 1312, 'magazine': 1313, 'housed': 1314, 'gilded': 1315, 'boa': 1316, 'muff': 1317, 'viewer': 1318, 'nonsense': 1319, 'hundred': 1320, 'floundering': 1321, 'mild': 1322, 'strenuous': 1323, 'career': 1324, 'takes': 1325, 'connections': 1326, 'irregular': 1327, 'contact': 1328, 'hell': 1329, 'headboard': 1330, 'lots': 1331, 'spots': 1332, 'shudder': 1333, 'former': 1334, 'luxury': 1335, 'guest': 1336, 'copy': 1337, 'contract': 1338, 'kicked': 1339, 'knows': 1340, 'funny': 1341, 'subordinates': 1342, 'suppose': 1343, 'leaves': 1344, 'ticking': 1345, 'heaven': 1346, 'rattling': 1347, 'packed': 1348, 'spineless': 1349, 'reported': 1350, 'sick': 1351, 'strained': 1352, 'medical': 1353, 'insurance': 1354, 'lazy': 1355, 'accept': 1356, 'recommendation': 1357, 'claim': 1358, 'believed': 1359, 'workshy': 1360, 'case': 1361, 'excessive': 1362, 'sleepiness': 1363, 'thinking': 1364, 'decide': 1365, 'gentle': 1366, 'answering': 1367, 'recognised': 1368, 'uncontrollable': 1369, 'squeaking': 1370, 'echo': 1371, 'unclear': 1372, 'hearer': 1373, 'unsure': 1374, 'contented': 1375, 'satisfied': 1376, 'shuffled': 1377, 'expectations': 1378, 'warning': 1379, 'deepness': 1380, 'plaintively': 1381, 'strangeness': 1382, 'enunciating': 1383, 'pauses': 1384, 'congratulated': 1385, 'locking': 1386, 'awkwardly': 1387, 'pure': 1388, 'imagination': 1389, 'wondered': 1390, 'imaginings': 1391, 'resolve': 1392, 'doubt': 1393, 'occupational': 1394, 'hazard': 1395, 'exceptionally': 1396, 'continuously': 1397, 'leg': 1398, 'frenzy': 1399, 'carelessly': 1400, 'shoved': 1401, 'chose': 1402, 'bedpost': 1403, 'burning': 1404, 'breadth': 1405, 'bulk': 1406, 'lose': 1407, 'consciousness': 1408, 'sighing': 1409, 'struggled': 1410, 'chaos': 1411, 'rushing': 1412, 'desperate': 1413, 'enveloped': 1414, 'cheer': 1415, 'offer': 1416, 'stillness': 1417, 'natural': 1418, 'strikes': 1419, 'swinging': 1420, 'length': 1421, 'succeeded': 1422, 'injuring': 1423, 'bound': 1424, 'risked': 1425, 'sticking': 1426, 'method': 1427, 'game': 1428, 'rock': 1429, 'dome': 1430, 'peel': 1431, 'hopefully': 1432, 'suppress': 1433, 'balance': 1434, 'rocked': 1435, 'final': 1436, 'ring': 1437, 'danced': 1438, 'nonsensical': 1439, 'greeting': 1440, 'condemned': 1441, 'shortcoming': 1442, 'louts': 1443, 'faithful': 1444, 'devoted': 1445, 'pangs': 1446, 'conscience': 1447, 'trainees': 1448, 'assuming': 1449, 'trusted': 1450, 'wisdom': 1451, 'investigate': 1452, 'thump': 1453, 'softened': 1454, 'elastic': 1455, 'muffled': 1456, 'noticeable': 1457, 'concede': 1458, 'gruff': 1459, 'footsteps': 1460, 'adjoining': 1461, 'daring': 1462, 'personally': 1463, 'forgive': 1464, 'untidiness': 1465, 'missed': 1466, 'lad': 1467, 'thinks': 1468, 'cross': 1469, 'goes': 1470, 'sits': 1471, 'reads': 1472, 'studies': 1473, 'timetables': 1474, 'opens': 1475, 'thoughtfully': 1476, 'miss': 1477, 'commerce': 1478, 'considerations': 1479, 'impatiently': 1480, 'join': 1481, 'begun': 1482, 'losing': 1483, 'pursue': 1484, 'demands': 1485, 'minor': 1486, 'discourtesy': 1487, 'disturbing': 1488, 'barricade': 1489, 'mention': 1490, 'duties': 1491, 'request': 1492, 'peculiar': 1493, 'whims': 1494, 'suggest': 1495, 'entrusted': 1496, 'honour': 1497, 'incomprehensible': 1498, 'whatsoever': 1499, 'intercede': 1500, 'secure': 1501, 'originally': 1502, 'private': 1503, 'turnover': 1504, 'unsatisfactory': 1505, 'recognise': 1506, 'cannot': 1507, 'allow': 1508, 'excitement': 1509, 'dizziness': 1510, 'symptom': 1511, 'illness': 1512, 'basis': 1513, 'accusations': 1514, 'read': 1515, 'latest': 1516, 'contracts': 1517, 'recommend': 1518, 'gushed': 1519, 'practise': 1520, 'responsibility': 1521, 'station': 1522, 'smooth': 1523, 'nearby': 1524, 'edges': 1525, 'fools': 1526, 'communicated': 1527, 'calmness': 1528, 'screams': 1529, 'clapping': 1530, 'swishing': 1531, 'wrenching': 1532, 'banging': 1533, 'homes': 1534, 'awful': 1535, 'calmer': 1536, 'clearer': 1537, 'ears': 1538, 'response': 1539, 'confident': 1540, 'wise': 1541, 'among': 1542, 'achievements': 1543, 'distinguish': 1544, 'crucial': 1545, 'coughed': 1546, 'care': 1547, 'coughs': 1548, 'tips': 1549, 'recover': 1550, 'involved': 1551, 'fluid': 1552, 'dripped': 1553, 'greatly': 1554, 'encouraged': 1555, 'calling': 1556, 'paying': 1557, 'snapped': 1558, 'regained': 1559, 'exclaim': 1560, 'soughing': 1561, 'wind': 1562, 'nearest': 1563, 'retreating': 1564, 'invisible': 1565, 'dishevelled': 1566, 'breast': 1567, 'hostile': 1568, 'clenched': 1569, 'uncertainly': 1570, 'wept': 1571, 'powerful': 1572, 'peered': 1573, 'lighter': 1574, 'endless': 1575, 'black': 1576, 'building': 1577, 'austere': 1578, 'regular': 1579, 'facade': 1580, 'throwing': 1581, 'droplets': 1582, 'number': 1583, 'photograph': 1584, 'lieutenant': 1585, 'army': 1586, 'sword': 1587, 'carefree': 1588, 'bearing': 1589, 'pack': 1590, 'commercial': 1591, 'traveller': 1592, 'arduous': 1593, 'accurately': 1594, 'temporarily': 1595, 'diligence': 1596, 'trapped': 1597, 'likes': 1598, 'wage': 1599, 'soft': 1600, 'prejudice': 1601, 'staff': 1602, 'businessman': 1603, 'mistakes': 1604, 'harshly': 1605, 'victim': 1606, 'gossip': 1607, 'groundless': 1608, 'complaints': 1609, 'defend': 1610, 'arrive': 1611, 'trip': 1612, 'harmful': 1613, 'effects': 1614, 'protruding': 1615, 'stared': 1616, 'steadily': 1617, 'gradually': 1618, 'prohibition': 1619, 'supernatural': 1620, 'extreme': 1621, 'depended': 1622, 'clever': 1623, 'lover': 1624, 'considering': 1625, 'speech': 1626, 'reach': 1627, 'ridiculously': 1628, 'scream': 1629, 'sought': 1630, 'numerous': 1631, 'solid': 1632, 'sorrows': 1633, 'crouched': 1634, 'engrossed': 1635, 'shouting': 1636, 'pity': 1637, 'suggested': 1638, 'unthinking': 1639, 'seeming': 1640, 'pot': 1641, 'knocked': 1642, 'gush': 1643, 'pouring': 1644, 'snapping': 1645, 'flow': 1646, 'anew': 1647, 'reaching': 1648, 'leapt': 1649, 'shouts': 1650, 'resounding': 1651, 'staircase': 1652, 'flight': 1653, 'controlled': 1654, 'impeding': 1655, 'seized': 1656, 'stamping': 1657, 'humbly': 1658, 'chilly': 1659, 'draught': 1660, 'curtains': 1661, 'fluttered': 1662, 'blown': 1663, 'drove': 1664, 'wild': 1665, 'practice': 1666, 'impatient': 1667, 'threat': 1668, 'lethal': 1669, 'disgust': 1670, 'incapable': 1671, 'anxious': 1672, 'glances': 1673, 'hinder': 1674, 'mistake': 1675, 'occur': 1676, 'fixed': 1677, 'preparation': 1678, 'pleasant': 1679, 'angle': 1680, 'flank': 1681, 'scraped': 1682, 'vile': 1683, 'flecks': 1684, 'quivering': 1685, 'hefty': 1686, 'released': 1687, 'flying': 1688, 'bleeding': 1689, 'ii': 1690, 'awoke': 1691, 'coma': 1692, 'lamps': 1693, 'shone': 1694, 'palely': 1695, 'tops': 1696, 'clumsily': 1697, 'antennae': 1698, 'beginning': 1699, 'value': 1700, 'scar': 1701, 'limped': 1702, 'rows': 1703, 'events': 1704, 'lifelessly': 1705, 'sweetened': 1706, 'floating': 1707, 'laughed': 1708, 'dipped': 1709, 'covering': 1710, 'snuffling': 1711, 'favourite': 1712, 'drink': 1713, 'centre': 1714, 'gas': 1715, 'lit': 1716, 'write': 1717, 'recent': 1718, 'lead': 1719, 'gazing': 1720, 'wealth': 1721, 'comfort': 1722, 'resolved': 1723, 'timorous': 1724, 'vain': 1725, 'previous': 1726, 'unlocked': 1727, 'keys': 1728, 'gaslight': 1729, 'awake': 1730, 'distinctly': 1731, 'plenty': 1732, 'undisturbed': 1733, 'tall': 1734, 'ease': 1735, 'underneath': 1736, 'vague': 1737, 'hopes': 1738, 'conclusion': 1739, 'patience': 1740, 'unpleasantness': 1741, 'impose': 1742, 'decisions': 1743, 'ended': 1744, 'flown': 1745, 'edge': 1746, 'terrible': 1747, 'rag': 1748, 'imagining': 1749, 'wildest': 1750, 'possibilities': 1751, 'guessed': 1752, 'goodness': 1753, 'selection': 1754, 'rotten': 1755, 'bones': 1756, 'raisins': 1757, 'almonds': 1758, 'declared': 1759, 'inedible': 1760, 'roll': 1761, 'butter': 1762, 'salt': 1763, 'poured': 1764, 'feelings': 1765, 'whirred': 1766, 'healed': 1767, 'knife': 1768, 'yesterday': 1769, 'sucking': 1770, 'greedily': 1771, 'compellingly': 1772, 'attracted': 1773, 'watering': 1774, 'consumed': 1775, 'lethargic': 1776, 'withdraw': 1777, 'rounded': 1778, 'bulging': 1779, 'unselfconsciously': 1780, 'swept': 1781, 'overs': 1782, 'mixing': 1783, 'dropped': 1784, 'bin': 1785, 'lid': 1786, 'second': 1787, 'errand': 1788, 'starve': 1789, 'feeding': 1790, 'suffering': 1791, 'content': 1792, 'sighs': 1793, 'saints': 1794, 'construed': 1795, 'enjoyed': 1796, 'diligently': 1797, 'sadly': 1798, 'scurry': 1799, 'appropriate': 1800, 'press': 1801, 'seldom': 1802, 'mealtime': 1803, 'subject': 1804, 'knees': 1805, 'begged': 1806, 'within': 1807, 'tearfully': 1808, 'thanking': 1809, 'dismissal': 1810, 'swore': 1811, 'emphatically': 1812, 'cooking': 1813, 'bother': 1814, 'unsuccessfully': 1815, 'similar': 1816, 'drank': 1817, 'beer': 1818, 'hoping': 1819, 'add': 1820, 'selfish': 1821, 'housekeeper': 1822, 'explained': 1823, 'finances': 1824, 'receipt': 1825, 'document': 1826, 'box': 1827, 'saved': 1828, 'complicated': 1829, 'item': 1830, 'incarcerated': 1831, 'fiery': 1832, 'vigour': 1833, 'junior': 1834, 'representative': 1835, 'overnight': 1836, 'ways': 1837, 'converted': 1838, 'benefit': 1839, 'delighted': 1840, 'splendour': 1841, 'costs': 1842, 'affection': 1843, 'return': 1844, 'gifted': 1845, 'expressive': 1846, 'violinist': 1847, 'expense': 1848, 'periods': 1849, 'mentioned': 1850, 'lovely': 1851, 'planned': 1852, 'grand': 1853, 'announcement': 1854, 'pointless': 1855, 'wearily': 1856, 'matters': 1857, 'misfortunes': 1858, 'available': 1859, 'meantime': 1860, 'accumulated': 1861, 'accumulating': 1862, 'enthusiasm': 1863, 'thrift': 1864, 'caution': 1865, 'surplus': 1866, 'reduce': 1867, 'freed': 1868, 'enable': 1869, 'maintain': 1870, 'emergencies': 1871, 'healthy': 1872, 'lacking': 1873, 'clumsy': 1874, 'asthma': 1875, 'seventeen': 1876, 'till': 1877, 'enviable': 1878, 'consisting': 1879, 'joining': 1880, 'modest': 1881, 'pleasures': 1882, 'cool': 1883, 'wink': 1884, 'scratching': 1885, 'climbing': 1886, 'sill': 1887, 'propped': 1888, 'leaning': 1889, 'stare': 1890, 'sense': 1891, 'freedom': 1892, 'distinct': 1893, 'charlottenstrasse': 1894, 'city': 1895, 'barren': 1896, 'sky': 1897, 'earth': 1898, 'mingled': 1899, 'inseparably': 1900, 'observant': 1901, 'exact': 1902, 'inner': 1903, 'naturally': 1904, 'pretend': 1905, 'entered': 1906, 'sooner': 1907, 'precaution': 1908, 'shivering': 1909, 'ordeal': 1910, 'motionless': 1911, 'bite': 1912, 'hide': 1913, 'flee': 1914, 'protruded': 1915, 'bedsheet': 1916, 'arranged': 1917, 'glimpsed': 1918, 'fourteen': 1919, 'girl': 1920, 'useless': 1921, 'behaved': 1922, 'visit': 1923, 'persuaded': 1924, 'approved': 1925, 'unfortunate': 1926, 'courage': 1927, 'adult': 1928, 'appreciation': 1929, 'square': 1930, 'meters': 1931, 'entertain': 1932, 'freely': 1933, 'relaxed': 1934, 'happy': 1935, 'crash': 1936, 'traces': 1937, 'sixteen': 1938, 'bravely': 1939, 'cook': 1940, 'choose': 1941, 'approached': 1942, 'express': 1943, 'joy': 1944, 'folds': 1945, 'refrained': 1946, 'spying': 1947, 'pair': 1948, 'feeble': 1949, 'heaving': 1950, 'lasted': 1951, 'labouring': 1952, 'saddened': 1953, 'heart': 1954, 'whose': 1955, 'whereabouts': 1956, 'tone': 1957, 'added': 1958, 'cope': 1959, 'comes': 1960, 'unchanged': 1961, 'communication': 1962, 'monotonous': 1963, 'emptied': 1964, 'transform': 1965, 'cave': 1966, 'inherited': 1967, 'unimpeded': 1968, 'shaken': 1969, 'influence': 1970, 'mindlessly': 1971, 'loss': 1972, 'advantage': 1973, 'agree': 1974, 'spokesman': 1975, 'concerned': 1976, 'advice': 1977, 'sufficient': 1978, 'childish': 1979, 'perversity': 1980, 'whereas': 1981, 'enthusiastic': 1982, 'tempted': 1983, 'dominated': 1984, 'groaning': 1985, 'pulling': 1986, 'inch': 1987, 'startlement': 1988, 'prevent': 1989, 'attract': 1990, 'assure': 1991, 'unusual': 1992, 'calls': 1993, 'scraping': 1994, 'assailed': 1995, 'emptying': 1996, 'dear': 1997, 'containing': 1998, 'tools': 1999, 'homework': 2000, 'trainee': 2001, 'infant': 2002, 'catching': 2003, 'sallied': 2004, 'denuded': 2005, 'copious': 2006, 'firmly': 2007, 'met': 2008, 'albeit': 2009, 'tremor': 2010, 'safe': 2011, 'unyielding': 2012, 'jump': 2013, 'patch': 2014, 'flowers': 2015, 'wallpaper': 2016, 'glowering': 2017, 'smelling': 2018, 'salts': 2019, 'faint': 2020, 'advise': 2021, 'bottle': 2022, 'splinter': 2023, 'caustic': 2024, 'medicine': 2025, 'delaying': 2026, 'oppressed': 2027, 'anxiety': 2028, 'spin': 2029, 'numb': 2030, 'subdued': 2031, 'openly': 2032, 'responsible': 2033, 'act': 2034, 'violence': 2035, 'subtleties': 2036, 'ah': 2037, 'sounding': 2038, 'angry': 2039, 'imagined': 2040, 'entombed': 2041, 'trips': 2042, 'armchair': 2043, 'sunday': 2044, 'public': 2045, 'wrapped': 2046, 'labour': 2047, 'walking': 2048, 'invariably': 2049, 'smart': 2050, 'blue': 2051, 'banking': 2052, 'institute': 2053, 'emerged': 2054, 'bushy': 2055, 'eyebrows': 2056, 'alert': 2057, 'unkempt': 2058, 'combed': 2059, 'scalp': 2060, 'monogram': 2061, 'arc': 2062, 'trouser': 2063, 'bottom': 2064, 'determination': 2065, 'walked': 2066, 'unusually': 2067, 'soles': 2068, 'wasted': 2069, 'strict': 2070, 'scurried': 2071, 'decisive': 2072, 'largely': 2073, 'feared': 2074, 'provoking': 2075, 'step': 2076, 'countless': 2077, 'noticeably': 2078, 'lungs': 2079, 'reliable': 2080, 'lurched': 2081, 'muster': 2082, 'saving': 2083, 'concealed': 2084, 'carved': 2085, 'notches': 2086, 'protrusions': 2087, 'tossed': 2088, 'bombard': 2089, 'fruit': 2090, 'bowl': 2091, 'sideboard': 2092, 'aim': 2093, 'red': 2094, 'apples': 2095, 'motors': 2096, 'glanced': 2097, 'harm': 2098, 'squarely': 2099, 'drag': 2100, 'incredible': 2101, 'changing': 2102, 'nailed': 2103, 'senses': 2104, 'blouse': 2105, 'unfastened': 2106, 'sliding': 2107, 'stumbling': 2108, 'uniting': 2109, 'ability': 2110, 'begging': 2111, 'iii': 2112, 'flesh': 2113, 'visible': 2114, 'reminder': 2115, 'revolting': 2116, 'form': 2117, 'member': 2118, 'treated': 2119, 'enemy': 2120, 'duty': 2121, 'swallow': 2122, 'revulsion': 2123, 'mobility': 2124, 'ancient': 2125, 'invalid': 2126, 'deterioration': 2127, 'opinion': 2128, 'thus': 2129, 'differently': 2130, 'conversations': 2131, 'ones': 2132, 'longing': 2133, 'damp': 2134, 'nowadays': 2135, 'lamp': 2136, 'sew': 2137, 'fancy': 2138, 'underwear': 2139, 'fashion': 2140, 'sales': 2141, 'shorthand': 2142, 'french': 2143, 'dozing': 2144, 'grin': 2145, 'unused': 2146, 'peg': 2147, 'slumber': 2148, 'serve': 2149, 'expecting': 2150, 'superior': 2151, 'result': 2152, 'shabbier': 2153, 'stains': 2154, 'shiny': 2155, 'uncomfortable': 2156, 'obstinate': 2157, 'regularly': 2158, 'importune': 2159, 'reproaches': 2160, 'refusing': 2161, 'sleeve': 2162, 'whisper': 2163, 'endearments': 2164, 'effect': 2165, 'sink': 2166, 'deeper': 2167, 'abruptly': 2168, 'supported': 2169, 'needle': 2170, 'pen': 2171, 'overworked': 2172, 'household': 2173, 'budget': 2174, 'dismissed': 2175, 'thick': 2176, 'boned': 2177, 'flapped': 2178, 'amount': 2179, 'hoped': 2180, 'items': 2181, 'jewellery': 2182, 'belonging': 2183, 'functions': 2184, 'celebrations': 2185, 'loudest': 2186, 'complaint': 2187, 'imaginable': 2188, 'transferring': 2189, 'address': 2190, 'reasons': 2191, 'transport': 2192, 'crate': 2193, 'holes': 2194, 'related': 2195, 'world': 2196, 'expects': 2197, 'poor': 2198, 'sacrificed': 2199, 'behest': 2200, 'customers': 2201, 'mingle': 2202, 'eyed': 2203, 'affairs': 2204, 'apprentices': 2205, 'teaboy': 2206, 'businesses': 2207, 'chambermaids': 2208, 'provincial': 2209, 'memory': 2210, 'cashier': 2211, 'inaccessible': 2212, 'rage': 2213, 'plans': 2214, 'pantry': 2215, 'entitled': 2216, 'sweep': 2217, 'untouched': 2218, 'quicker': 2219, 'smears': 2220, 'balls': 2221, 'filth': 2222, 'worst': 2223, 'places': 2224, 'weeks': 2225, 'touchy': 2226, 'thoroughly': 2227, 'bucketfuls': 2228, 'dampness': 2229, 'bitter': 2230, 'punished': 2231, 'aggrieved': 2232, 'mothers': 2233, 'imploring': 2234, 'convulsive': 2235, 'helpless': 2236, 'agitated': 2237, 'accused': 2238, 'quaking': 2239, 'thumped': 2240, 'hissed': 2241, 'widow': 2242, 'robust': 2243, 'bone': 2244, 'structure': 2245, 'withstand': 2246, 'hardest': 2247, 'repelled': 2248, 'curiosity': 2249, 'chasing': 2250, 'considered': 2251, 'responded': 2252, 'disturb': 2253, 'windowpanes': 2254, 'spring': 2255, 'resentful': 2256, 'infirm': 2257, 'intending': 2258, 'changes': 2259, 'earnest': 2260, 'peering': 2261, 'tidy': 2262, 'establishment': 2263, 'clutter': 2264, 'tolerate': 2265, 'dirty': 2266, 'furnishings': 2267, 'equipment': 2268, 'superfluous': 2269, 'discard': 2270, 'dustbins': 2271, 'chuck': 2272, 'object': 2273, 'woman': 2274, 'likely': 2275, 'junk': 2276, 'enjoy': 2277, 'darkest': 2278, 'formerly': 2279, 'serviettes': 2280, 'knives': 2281, 'forks': 2282, 'piled': 2283, 'potatoes': 2284, 'steaming': 2285, 'dishes': 2286, 'count': 2287, 'authority': 2288, 'piece': 2289, 'wishing': 2290, 'establish': 2291, 'sufficiently': 2292, 'cooked': 2293, 'satisfaction': 2294, 'mumbled': 2295, 'perfect': 2296, 'remarkable': 2297, 'chewing': 2298, 'perform': 2299, 'toothless': 2300, 'feed': 2301, 'dying': 2302, 'produced': 2303, 'page': 2304, 'smoking': 2305, 'attentive': 2306, 'cosy': 2307, 'player': 2308, 'therefore': 2309, 'exaggerated': 2310, 'courtesy': 2311, 'offered': 2312, 'paid': 2313, 'thoughtless': 2314, 'hidden': 2315, 'threads': 2316, 'hairs': 2317, 'remains': 2318, 'wipe': 2319, 'shy': 2320, 'immaculate': 2321, 'preoccupied': 2322, 'notes': 2323, 'withdrew': 2324, 'heads': 2325, 'sunk': 2326, 'volume': 2327, 'observed': 2328, 'disappointed': 2329, 'performance': 2330, 'politeness': 2331, 'unnerving': 2332, 'blew': 2333, 'smoke': 2334, 'cigarettes': 2335, 'upwards': 2336, 'noses': 2337, 'beautifully': 2338, 'lines': 2339, 'melancholy': 2340, 'meet': 2341, 'captivate': 2342, 'unknown': 2343, 'nourishment': 2344, 'yearning': 2345, 'determined': 2346, 'skirt': 2347, 'hiss': 2348, 'attackers': 2349, 'refuse': 2350, 'shoulder': 2351, 'kiss': 2352, 'necklace': 2353, 'pointing': 2354, 'wasting': 2355, 'forefinger': 2356, 'driving': 2357, 'attempted': 2358, 'block': 2359, 'dawning': 2360, 'realisation': 2361, 'neighbour': 2362, 'tugged': 2363, 'drop': 2364, 'bow': 2365, 'hang': 2366, 'limply': 2367, 'instrument': 2368, 'laboriously': 2369, 'pressure': 2370, 'pillows': 2371, 'slipped': 2372, 'obsessed': 2373, 'owed': 2374, 'urged': 2375, 'thunder': 2376, 'thereby': 2377, 'halt': 2378, 'declare': 2379, 'glancing': 2380, 'gain': 2381, 'repugnant': 2382, 'conditions': 2383, 'prevail': 2384, 'decisively': 2385, 'proceed': 2386, 'damages': 2387, 'grounds': 2388, 'joined': 2389, 'staggered': 2390, 'stretching': 2391, 'nap': 2392, 'uncontrolled': 2393, 'nodding': 2394, 'introduction': 2395, 'monster': 2396, 'humanly': 2397, 'cough': 2398, 'dully': 2399, 'deranged': 2400, 'forehead': 2401, 'definite': 2402, 'ideas': 2403, 'plates': 2404, 'occasionally': 2405, 'coughing': 2406, 'tortured': 2407, 'wiped': 2408, 'mechanical': 2409, 'sympathy': 2410, 'shrugged': 2411, 'helplessness': 2412, 'displacing': 2413, 'acceptance': 2414, 'harmed': 2415, 'beings': 2416, 'lives': 2417, 'persecuting': 2418, 'streets': 2419, 'starting': 2420, 'beyond': 2421, 'comprehension': 2422, 'excited': 2423, 'protect': 2424, 'startling': 2425, 'wracked': 2426, 'required': 2427, 'deal': 2428, 'repeatedly': 2429, 'striking': 2430, 'alarmed': 2431, 'unhappy': 2432, 'exhaustion': 2433, 'panting': 2434, 'separated': 2435, 'noticing': 2436, 'concentrated': 2437, 'distract': 2438, 'sprung': 2439, 'discovery': 2440, 'spindly': 2441, 'unnatural': 2442, 'aching': 2443, 'altogether': 2444, 'decayed': 2445, 'inflamed': 2446, 'area': 2447, 'strongly': 2448, 'rumination': 2449, 'tower': 2450, 'strike': 2451, 'weakly': 2452, 'nostrils': 2453, 'brief': 2454, 'special': 2455, 'purpose': 2456, 'martyr': 2457, 'attributed': 2458, 'tickle': 2459, 'nuisance': 2460, 'resistance': 2461, 'whistled': 2462, 'yank': 2463, 'shout': 2464, 'bedrooms': 2465, 'ave': 2466, 'stone': 2467, 'marriage': 2468, 'blanket': 2469, 'nightdress': 2470, 'paleness': 2471, 'confirm': 2472, 'enquiringly': 2473, 'checked': 2474, 'checking': 2475, 'replied': 2476, 'prove': 2477, 'sending': 2478, 'sideways': 2479, 'complete': 2480, 'example': 2481, 'dried': 2482, 'pained': 2483, 'warmth': 2484, 'march': 2485, 'irritably': 2486, 'coats': 2487, 'disconcerted': 2488, 'sweetly': 2489, 'backs': 2490, 'continually': 2491, 'gleeful': 2492, 'anticipation': 2493, 'quarrel': 2494, 'favour': 2495, 'contents': 2496, 'rearranging': 2497, 'positions': 2498, 'humility': 2499, 'strides': 2500, 'rubbing': 2501, 'friend': 2502, 'fear': 2503, 'connection': 2504, 'leader': 2505, 'hats': 2506, 'sticks': 2507, 'holder': 2508, 'premises': 2509, 'mistrust': 2510, 'leaned': 2511, 'progress': 2512, 'reappear': 2513, 'moments': 2514, 'butcher': 2515, 'boy': 2516, 'proud': 2517, 'posture': 2518, 'tray': 2519, 'nearer': 2520, 'relieved': 2521, 'wrote': 2522, 'excusal': 2523, 'employers': 2524, 'contractor': 2525, 'principal': 2526, 'tremendous': 2527, 'vertical': 2528, 'ostrich': 2529, 'feather': 2530, 'source': 2531, 'laugh': 2532, 'needn': 2533, 'sorted': 2534, 'intent': 2535, 'continuing': 2536, 'describing': 2537, 'detail': 2538, 'prevented': 2539, 'telling': 2540, 'peeved': 2541, 'cheerio': 2542, 'sharply': 2543, 'terribly': 2544, 'tonight': 2545, 'gets': 2546, 'destroyed': 2547, 'gained': 2548, 'twisted': 2549, 'stuff': 2550, 'kissed': 2551, 'hugged': 2552, 'country': 2553, 'sunshine': 2554, 'comfortably': 2555, 'seats': 2556, 'discussed': 2557, 'examination': 2558, 'jobs': 2559, 'promise': 2560, 'cheaper': 2561, 'location': 2562, 'practical': 2563, 'livelier': 2564, 'cheeks': 2565, 'pale': 2566, 'simultaneously': 2567, 'blossoming': 2568, 'built': 2569, 'quieter': 2570, 'agreed': 2571, 'confirmation': 2572, 'destination': 2573}\n"
          ]
        }
      ]
    },
    {
      "cell_type": "code",
      "source": [
        "# x = 0;\n",
        "\n",
        "# for key in tokenizer.word_index:\n",
        "#   if key == 'and':\n",
        "#     x = x + 1\n",
        "\n",
        "# print(x)"
      ],
      "metadata": {
        "id": "Eim8ccIbc0aD"
      },
      "execution_count": 18,
      "outputs": []
    },
    {
      "cell_type": "code",
      "source": [
        "\n",
        "# there are 22375 words in the training set\n",
        "\n",
        "len(encodedData)"
      ],
      "metadata": {
        "id": "yh-C3iNxUSMv",
        "outputId": "3a2f5b98-21f5-4c4f-9529-d0144cb6f14e",
        "colab": {
          "base_uri": "https://localhost:8080/"
        }
      },
      "execution_count": 19,
      "outputs": [
        {
          "output_type": "execute_result",
          "data": {
            "text/plain": [
              "22375"
            ]
          },
          "metadata": {},
          "execution_count": 19
        }
      ]
    },
    {
      "cell_type": "code",
      "source": [
        "encodedData[:5]  # numerated data"
      ],
      "metadata": {
        "colab": {
          "base_uri": "https://localhost:8080/"
        },
        "id": "9mK_yww8RtvI",
        "outputId": "288c6295-bc44-40fe-e358-e1f1f3c1cab4"
      },
      "execution_count": 20,
      "outputs": [
        {
          "output_type": "execute_result",
          "data": {
            "text/plain": [
              "[54, 142, 57, 12, 95]"
            ]
          },
          "metadata": {},
          "execution_count": 20
        }
      ]
    },
    {
      "cell_type": "code",
      "source": [
        "\n",
        "# we construct the sequences from word to word\n",
        "sequences = []\n",
        "for i in range(1,len(encodedData)):\n",
        "  sequences.append(encodedData[i-1:i+1])\n"
      ],
      "metadata": {
        "id": "1xJbFxylYW8x"
      },
      "execution_count": 21,
      "outputs": []
    },
    {
      "cell_type": "code",
      "source": [
        "print(len(sequences))"
      ],
      "metadata": {
        "colab": {
          "base_uri": "https://localhost:8080/"
        },
        "id": "z3nuaZUmZJ7F",
        "outputId": "f16c6431-a7bc-40fc-81d4-08d09d663c63"
      },
      "execution_count": 22,
      "outputs": [
        {
          "output_type": "stream",
          "name": "stdout",
          "text": [
            "22374\n"
          ]
        }
      ]
    },
    {
      "cell_type": "code",
      "source": [
        "print(sequences[0:5])"
      ],
      "metadata": {
        "colab": {
          "base_uri": "https://localhost:8080/"
        },
        "id": "p4Y1CMvGfOsl",
        "outputId": "97b7a8a4-ab8e-433e-d5c3-ae82a24e797b"
      },
      "execution_count": 23,
      "outputs": [
        {
          "output_type": "stream",
          "name": "stdout",
          "text": [
            "[[54, 142], [142, 57], [57, 12], [12, 95], [95, 921]]\n"
          ]
        }
      ]
    },
    {
      "cell_type": "code",
      "source": [
        "for i in range(10):\n",
        "  print(sequences[i])"
      ],
      "metadata": {
        "colab": {
          "base_uri": "https://localhost:8080/"
        },
        "id": "07v9uhNyaNpQ",
        "outputId": "5cfdcfd5-d027-42e8-c41b-6e03930cf11f"
      },
      "execution_count": 24,
      "outputs": [
        {
          "output_type": "stream",
          "name": "stdout",
          "text": [
            "[54, 142]\n",
            "[142, 57]\n",
            "[57, 12]\n",
            "[12, 95]\n",
            "[95, 921]\n",
            "[921, 29]\n",
            "[29, 1296]\n",
            "[1296, 922]\n",
            "[922, 4]\n",
            "[4, 242]\n"
          ]
        }
      ]
    },
    {
      "cell_type": "code",
      "source": [
        "sequences = np.array(sequences)     # converting the list to numpy\n",
        "x,y = sequences[:,0], sequences[:,1]    # extracting input and output"
      ],
      "metadata": {
        "id": "fyrCY8evaXQG"
      },
      "execution_count": 25,
      "outputs": []
    },
    {
      "cell_type": "code",
      "source": [
        "y[:5]     # displaying the output for the certatin word"
      ],
      "metadata": {
        "colab": {
          "base_uri": "https://localhost:8080/"
        },
        "id": "sy62zly5cgs5",
        "outputId": "48becd6f-825d-4b75-94da-811e37aa1e0d"
      },
      "execution_count": 26,
      "outputs": [
        {
          "output_type": "execute_result",
          "data": {
            "text/plain": [
              "array([142,  57,  12,  95, 921])"
            ]
          },
          "metadata": {},
          "execution_count": 26
        }
      ]
    },
    {
      "cell_type": "code",
      "source": [
        "y = to_categorical(y, num_classes = word_size)    # catagorize the output"
      ],
      "metadata": {
        "id": "J8fYE5E8dQSU"
      },
      "execution_count": 27,
      "outputs": []
    },
    {
      "cell_type": "code",
      "source": [
        "len(y)    # number of outputs"
      ],
      "metadata": {
        "colab": {
          "base_uri": "https://localhost:8080/"
        },
        "id": "S1P3ciVG0dor",
        "outputId": "267165e3-e5b0-4342-a91c-536a51fd1c2f"
      },
      "execution_count": 28,
      "outputs": [
        {
          "output_type": "execute_result",
          "data": {
            "text/plain": [
              "22374"
            ]
          },
          "metadata": {},
          "execution_count": 28
        }
      ]
    },
    {
      "cell_type": "code",
      "source": [
        "len(y[0])   # number of classes(unique words)"
      ],
      "metadata": {
        "colab": {
          "base_uri": "https://localhost:8080/"
        },
        "id": "_vsN_BUFzkLS",
        "outputId": "bd25c741-4174-4c50-cee7-d36b60eab9b4"
      },
      "execution_count": 29,
      "outputs": [
        {
          "output_type": "execute_result",
          "data": {
            "text/plain": [
              "2574"
            ]
          },
          "metadata": {},
          "execution_count": 29
        }
      ]
    },
    {
      "cell_type": "code",
      "source": [
        "y[0]"
      ],
      "metadata": {
        "colab": {
          "base_uri": "https://localhost:8080/"
        },
        "id": "sEtRYgOsd7i3",
        "outputId": "23edeb67-3e7c-4729-f37e-649cfb4a9fb6"
      },
      "execution_count": 30,
      "outputs": [
        {
          "output_type": "execute_result",
          "data": {
            "text/plain": [
              "array([0., 0., 0., ..., 0., 0., 0.], dtype=float32)"
            ]
          },
          "metadata": {},
          "execution_count": 30
        }
      ]
    },
    {
      "cell_type": "code",
      "source": [
        "# constructing the model in a method\n",
        "\n",
        "def build_model(vocab_size, embedding_dim, rnn_units):\n",
        "  model = tf.keras.Sequential([\n",
        "    tf.keras.layers.Embedding(vocab_size, embedding_dim, input_length = 1),\n",
        "    tf.keras.layers.LSTM(rnn_units),\n",
        "    tf.keras.layers.Dense(vocab_size, activation='softmax')\n",
        "  ])\n",
        "\n",
        "  return model"
      ],
      "metadata": {
        "id": "0th1sltSfvle"
      },
      "execution_count": 31,
      "outputs": []
    },
    {
      "cell_type": "code",
      "source": [
        "# creating the model\n",
        "model = build_model(word_size, 254, 1024)"
      ],
      "metadata": {
        "id": "bQuKOUtBoRpL"
      },
      "execution_count": 32,
      "outputs": []
    },
    {
      "cell_type": "code",
      "source": [
        "# showing the model created\n",
        "\n",
        "model.summary()"
      ],
      "metadata": {
        "colab": {
          "base_uri": "https://localhost:8080/"
        },
        "id": "ZHLx9Za6kAQU",
        "outputId": "0f2b9909-7204-404e-f832-14104b957452"
      },
      "execution_count": 33,
      "outputs": [
        {
          "output_type": "stream",
          "name": "stdout",
          "text": [
            "Model: \"sequential\"\n",
            "_________________________________________________________________\n",
            " Layer (type)                Output Shape              Param #   \n",
            "=================================================================\n",
            " embedding (Embedding)       (None, 1, 254)            653796    \n",
            "                                                                 \n",
            " lstm (LSTM)                 (None, 1024)              5238784   \n",
            "                                                                 \n",
            " dense (Dense)               (None, 2574)              2638350   \n",
            "                                                                 \n",
            "=================================================================\n",
            "Total params: 8530930 (32.54 MB)\n",
            "Trainable params: 8530930 (32.54 MB)\n",
            "Non-trainable params: 0 (0.00 Byte)\n",
            "_________________________________________________________________\n"
          ]
        }
      ]
    },
    {
      "cell_type": "code",
      "source": [
        "# compiling the model\n",
        "\n",
        "model.compile(loss = 'categorical_crossentropy', optimizer = 'adam', metrics = ['accuracy'])"
      ],
      "metadata": {
        "id": "scqf9OeCqnBY"
      },
      "execution_count": 34,
      "outputs": []
    },
    {
      "cell_type": "code",
      "source": [
        "# train the model and take history\n",
        "\n",
        "history = model.fit(x,y,epochs= 20, validation_split = 0.1)"
      ],
      "metadata": {
        "colab": {
          "base_uri": "https://localhost:8080/"
        },
        "id": "TFrnCki8vAL9",
        "outputId": "e74c11a4-e0a5-40ee-8b64-f98f0251652a"
      },
      "execution_count": 35,
      "outputs": [
        {
          "output_type": "stream",
          "name": "stdout",
          "text": [
            "Epoch 1/20\n",
            "630/630 [==============================] - 15s 14ms/step - loss: 5.9685 - accuracy: 0.0814 - val_loss: 5.7420 - val_accuracy: 0.0889\n",
            "Epoch 2/20\n",
            "630/630 [==============================] - 6s 10ms/step - loss: 5.1242 - accuracy: 0.1354 - val_loss: 5.6994 - val_accuracy: 0.1023\n",
            "Epoch 3/20\n",
            "630/630 [==============================] - 6s 9ms/step - loss: 4.7703 - accuracy: 0.1605 - val_loss: 5.7477 - val_accuracy: 0.1135\n",
            "Epoch 4/20\n",
            "630/630 [==============================] - 6s 10ms/step - loss: 4.4698 - accuracy: 0.1820 - val_loss: 5.8416 - val_accuracy: 0.1197\n",
            "Epoch 5/20\n",
            "630/630 [==============================] - 6s 9ms/step - loss: 4.2045 - accuracy: 0.2019 - val_loss: 5.9863 - val_accuracy: 0.1175\n",
            "Epoch 6/20\n",
            "630/630 [==============================] - 6s 10ms/step - loss: 3.9840 - accuracy: 0.2101 - val_loss: 6.1165 - val_accuracy: 0.1256\n",
            "Epoch 7/20\n",
            "630/630 [==============================] - 6s 9ms/step - loss: 3.8176 - accuracy: 0.2143 - val_loss: 6.2495 - val_accuracy: 0.1206\n",
            "Epoch 8/20\n",
            "630/630 [==============================] - 6s 9ms/step - loss: 3.6971 - accuracy: 0.2120 - val_loss: 6.3556 - val_accuracy: 0.1242\n",
            "Epoch 9/20\n",
            "630/630 [==============================] - 6s 9ms/step - loss: 3.6149 - accuracy: 0.2132 - val_loss: 6.4626 - val_accuracy: 0.1211\n",
            "Epoch 10/20\n",
            "630/630 [==============================] - 6s 10ms/step - loss: 3.5567 - accuracy: 0.2118 - val_loss: 6.5211 - val_accuracy: 0.1166\n",
            "Epoch 11/20\n",
            "630/630 [==============================] - 6s 9ms/step - loss: 3.5110 - accuracy: 0.2122 - val_loss: 6.5959 - val_accuracy: 0.1220\n",
            "Epoch 12/20\n",
            "630/630 [==============================] - 6s 10ms/step - loss: 3.4762 - accuracy: 0.2116 - val_loss: 6.6024 - val_accuracy: 0.1193\n",
            "Epoch 13/20\n",
            "630/630 [==============================] - 6s 9ms/step - loss: 3.4499 - accuracy: 0.2125 - val_loss: 6.6403 - val_accuracy: 0.1229\n",
            "Epoch 14/20\n",
            "630/630 [==============================] - 6s 10ms/step - loss: 3.4269 - accuracy: 0.2140 - val_loss: 6.6905 - val_accuracy: 0.1251\n",
            "Epoch 15/20\n",
            "630/630 [==============================] - 6s 9ms/step - loss: 3.4066 - accuracy: 0.2144 - val_loss: 6.7160 - val_accuracy: 0.1211\n",
            "Epoch 16/20\n",
            "630/630 [==============================] - 6s 9ms/step - loss: 3.3878 - accuracy: 0.2134 - val_loss: 6.7426 - val_accuracy: 0.1197\n",
            "Epoch 17/20\n",
            "630/630 [==============================] - 6s 9ms/step - loss: 3.3777 - accuracy: 0.2138 - val_loss: 6.8007 - val_accuracy: 0.1148\n",
            "Epoch 18/20\n",
            "630/630 [==============================] - 6s 10ms/step - loss: 3.3627 - accuracy: 0.2132 - val_loss: 6.7796 - val_accuracy: 0.1224\n",
            "Epoch 19/20\n",
            "630/630 [==============================] - 6s 10ms/step - loss: 3.3498 - accuracy: 0.2120 - val_loss: 6.8497 - val_accuracy: 0.1184\n",
            "Epoch 20/20\n",
            "630/630 [==============================] - 6s 10ms/step - loss: 3.3393 - accuracy: 0.2139 - val_loss: 6.8390 - val_accuracy: 0.1242\n"
          ]
        }
      ]
    },
    {
      "cell_type": "code",
      "source": [
        "# plotting the accuracy with sequence of epoch\n",
        "\n",
        "\n",
        "plt.plot(history.history['accuracy'], label='accuracy')\n",
        "plt.plot(history.history['val_accuracy'], label='val_accuracy')\n",
        "plt.xlabel('Epoch')\n",
        "plt.ylabel('Accuracy')\n",
        "plt.ylim([0.01, 1])\n",
        "plt.legend(loc='lower right')"
      ],
      "metadata": {
        "colab": {
          "base_uri": "https://localhost:8080/",
          "height": 472
        },
        "id": "76AL7Lx9Qsot",
        "outputId": "853f2d3e-a3a7-41de-87c8-b7b9003889ef"
      },
      "execution_count": 36,
      "outputs": [
        {
          "output_type": "execute_result",
          "data": {
            "text/plain": [
              "<matplotlib.legend.Legend at 0x7a1cc015b010>"
            ]
          },
          "metadata": {},
          "execution_count": 36
        },
        {
          "output_type": "display_data",
          "data": {
            "text/plain": [
              "<Figure size 640x480 with 1 Axes>"
            ],
            "image/png": "[encoded data removed]"
          },
          "metadata": {}
        }
      ]
    },
    {
      "cell_type": "code",
      "source": [
        "# creating a function that generate words using the model, word, number of prediction, list of words\n",
        "\n",
        "def generate(model,word, N, a):\n",
        "  finalWord = word\n",
        "  word = (word.split())[-1]\n",
        "  for r in range(N):\n",
        "    token = tokenizer.texts_to_sequences([word])[0]\n",
        "    token = np.array(token)\n",
        "    if len(token) == 0:\n",
        "      return \"word cannot be predicted\"\n",
        "    prediction = model.predict(token)\n",
        "    prediction = np.argmax(prediction)\n",
        "    prediction = a[prediction-1]\n",
        "    finalWord = finalWord + ' ' + prediction\n",
        "    word = prediction\n",
        "\n",
        "  return finalWord\n"
      ],
      "metadata": {
        "id": "GsNSeLEFJR_L"
      },
      "execution_count": 37,
      "outputs": []
    },
    {
      "cell_type": "code",
      "source": [
        "# af = \"hello world\"\n",
        "# af = af.split()[-1]\n",
        "# print(af)"
      ],
      "metadata": {
        "id": "GYDWv1i1Jgbh"
      },
      "execution_count": 38,
      "outputs": []
    },
    {
      "cell_type": "code",
      "source": [
        "# checking with some word in prediction\n",
        "# tokenize the input and convert to numpy\n",
        "\n",
        "token = tokenizer.texts_to_sequences([\"dream\"])[0]\n",
        "token = np.array(token)"
      ],
      "metadata": {
        "id": "VLnVXrj9wTFr"
      },
      "execution_count": 39,
      "outputs": []
    },
    {
      "cell_type": "code",
      "source": [
        "print(token)"
      ],
      "metadata": {
        "colab": {
          "base_uri": "https://localhost:8080/"
        },
        "id": "99gdOQ5MGMpQ",
        "outputId": "5510833e-fc87-493b-f6ee-3daa7bbbf78b"
      },
      "execution_count": 40,
      "outputs": [
        {
          "output_type": "stream",
          "name": "stdout",
          "text": [
            "[925]\n"
          ]
        }
      ]
    },
    {
      "cell_type": "code",
      "source": [
        "\n",
        "# get the prediction\n",
        "predicted_class = model.predict(token)"
      ],
      "metadata": {
        "colab": {
          "base_uri": "https://localhost:8080/"
        },
        "id": "yjb50i8Xz3KL",
        "outputId": "780df59e-dc13-443b-820f-34b959437052"
      },
      "execution_count": 41,
      "outputs": [
        {
          "output_type": "stream",
          "name": "stdout",
          "text": [
            "1/1 [==============================] - 1s 851ms/step\n"
          ]
        }
      ]
    },
    {
      "cell_type": "code",
      "source": [
        "predicted_class"
      ],
      "metadata": {
        "colab": {
          "base_uri": "https://localhost:8080/"
        },
        "id": "ZDBvf4v90Uiu",
        "outputId": "c4a7baa1-794d-4ad3-8250-f3b94f173e0c"
      },
      "execution_count": 42,
      "outputs": [
        {
          "output_type": "execute_result",
          "data": {
            "text/plain": [
              "array([[1.31840953e-11, 2.00128891e-02, 6.48236182e-03, ...,\n",
              "        1.41558865e-11, 1.39538138e-11, 1.50169287e-11]], dtype=float32)"
            ]
          },
          "metadata": {},
          "execution_count": 42
        }
      ]
    },
    {
      "cell_type": "code",
      "source": [
        "predicted_word_index = np.argmax(predicted_class)"
      ],
      "metadata": {
        "id": "cjdwyE2u1NAm"
      },
      "execution_count": 43,
      "outputs": []
    },
    {
      "cell_type": "code",
      "source": [
        "predicted_word_index"
      ],
      "metadata": {
        "colab": {
          "base_uri": "https://localhost:8080/"
        },
        "id": "FPwyNzcd1dfq",
        "outputId": "7aa3858e-4946-4071-dc3c-6c5e7e869500"
      },
      "execution_count": 44,
      "outputs": [
        {
          "output_type": "execute_result",
          "data": {
            "text/plain": [
              "5"
            ]
          },
          "metadata": {},
          "execution_count": 44
        }
      ]
    },
    {
      "cell_type": "code",
      "source": [
        "# check the probability\n",
        "\n",
        "predicted_class[:,predicted_word_index][0]"
      ],
      "metadata": {
        "colab": {
          "base_uri": "https://localhost:8080/"
        },
        "id": "e8YyPhQk2EcA",
        "outputId": "f16ab051-fd34-4601-832d-d3ef8af71150"
      },
      "execution_count": 45,
      "outputs": [
        {
          "output_type": "execute_result",
          "data": {
            "text/plain": [
              "0.45551363"
            ]
          },
          "metadata": {},
          "execution_count": 45
        }
      ]
    },
    {
      "cell_type": "code",
      "source": [
        "print(tokenizer.word_index)"
      ],
      "metadata": {
        "colab": {
          "base_uri": "https://localhost:8080/"
        },
        "id": "j-lMw42j3eSx",
        "outputId": "1741083e-23f6-4824-8846-cb0396e6e754"
      },
      "execution_count": 46,
      "outputs": [
        {
          "output_type": "stream",
          "name": "stdout",
          "text": [
            "{'the': 1, 'to': 2, 'and': 3, 'he': 4, 'his': 5, 'of': 6, 'was': 7, 'it': 8, 'had': 9, 'in': 10, 'that': 11, 'gregor': 12, 'a': 13, 'as': 14, 'she': 15, 'with': 16, 's': 17, 'him': 18, 'her': 19, 'would': 20, 'not': 21, 'but': 22, 'at': 23, 'for': 24, 'they': 25, 'on': 26, 'all': 27, 'room': 28, 'from': 29, 'could': 30, 'be': 31, 'out': 32, 'have': 33, 'there': 34, 'if': 35, 'father': 36, 'been': 37, 'sister': 38, 'so': 39, 'this': 40, 'i': 41, 'now': 42, 'mother': 43, 'himself': 44, 'door': 45, 'then': 46, 'back': 47, 'up': 48, 'even': 49, 'into': 50, 'what': 51, 'no': 52, 'did': 53, 'one': 54, 'more': 55, 'their': 56, 'when': 57, 'were': 58, 'about': 59, 'them': 60, 't': 61, 'you': 62, 'way': 63, 'only': 64, 'time': 65, 'by': 66, 'than': 67, 'just': 68, 'said': 69, 'little': 70, 'any': 71, 'other': 72, 'do': 73, 'get': 74, 'still': 75, 'first': 76, 'or': 77, 'made': 78, 'go': 79, 'some': 80, 'while': 81, 'see': 82, 'again': 83, 'without': 84, 'like': 85, 'head': 86, 'before': 87, 'much': 88, 'after': 89, 'where': 90, 'chief': 91, 'clerk': 92, 'down': 93, 'open': 94, 'samsa': 95, 'which': 96, 'very': 97, 'we': 98, 'who': 99, 'thought': 100, 'well': 101, 'over': 102, 'went': 103, 'come': 104, 'away': 105, 'family': 106, 'left': 107, 'an': 108, 'soon': 109, 'came': 110, 'too': 111, 'quite': 112, 'let': 113, 'though': 114, 'bed': 115, 'looked': 116, 'how': 117, 'everything': 118, 'something': 119, 'day': 120, 'wanted': 121, 'against': 122, 'two': 123, 'seemed': 124, 'is': 125, 'parents': 126, 'being': 127, 'work': 128, 'round': 129, 'things': 130, 'three': 131, 'grete': 132, 'can': 133, 'gentlemen': 134, 'body': 135, 'able': 136, 'because': 137, 'make': 138, 'already': 139, 'really': 140, 'mr': 141, 'morning': 142, 'look': 143, 'slowly': 144, 'long': 145, 'side': 146, 'floor': 147, 'hand': 148, 'onto': 149, 'got': 150, 'my': 151, 'legs': 152, 'used': 153, 'never': 154, 'better': 155, 'enough': 156, 'think': 157, 'through': 158, 'flat': 159, 'around': 160, 'lay': 161, 'off': 162, 'although': 163, 'table': 164, 'turned': 165, 'window': 166, 'heard': 167, 'feel': 168, 'right': 169, 'eyes': 170, 'home': 171, 'become': 172, 'hands': 173, 'under': 174, 'here': 175, 'good': 176, 'its': 177, 'whole': 178, 'longer': 179, 'always': 180, 'must': 181, 'began': 182, 'once': 183, 'll': 184, 'possible': 185, 'next': 186, 'perhaps': 187, 'nothing': 188, 'almost': 189, 'took': 190, 'say': 191, 'evening': 192, 'straight': 193, 'living': 194, 'herself': 195, 'me': 196, 'know': 197, 'should': 198, 'voice': 199, 'each': 200, 'might': 201, 'front': 202, 'couch': 203, 'hardly': 204, 'your': 205, 'move': 206, 'same': 207, 'help': 208, 'opened': 209, 'immediately': 210, 'asked': 211, 'chair': 212, 'women': 213, 'behind': 214, 'happened': 215, 'times': 216, 'felt': 217, 'business': 218, 'furniture': 219, 'probably': 220, 'm': 221, 'often': 222, 'became': 223, 'course': 224, 'also': 225, 'taken': 226, 'sat': 227, 'sleep': 228, 'doing': 229, 'food': 230, 'these': 231, 'chest': 232, 'put': 233, 'called': 234, 'anything': 235, 'arms': 236, 'held': 237, 'stood': 238, 'attention': 239, 'pressed': 240, 'face': 241, 'found': 242, 'life': 243, 'close': 244, 'money': 245, 'certainly': 246, 'seen': 247, 'hear': 248, 'until': 249, 'playing': 250, 'towards': 251, 'hard': 252, 'tried': 253, 'pushed': 254, 'saw': 255, 'quickly': 256, 'd': 257, 'especially': 258, 'clock': 259, 'later': 260, 'ever': 261, 'words': 262, 'done': 263, 'don': 264, 'forward': 265, 'new': 266, 're': 267, 'every': 268, 'leave': 269, 'reason': 270, 'understand': 271, 'take': 272, 'old': 273, 'violin': 274, 'pain': 275, 'making': 276, 'didn': 277, 'boss': 278, 'thing': 279, 'moving': 280, 'set': 281, 'want': 282, 'give': 283, 'most': 284, 'keep': 285, 'last': 286, 'stay': 287, 'moved': 288, 'remained': 289, 'least': 290, 'us': 291, 'kitchen': 292, 'clear': 293, 'ran': 294, 'key': 295, 'eat': 296, 'middle': 297, 'moment': 298, 'state': 299, 'however': 300, 'effort': 301, 'own': 302, 'whether': 303, 'doors': 304, 'night': 305, 'themselves': 306, 'finally': 307, 'despite': 308, 'will': 309, 'quiet': 310, 'mrs': 311, 'few': 312, 'great': 313, 'turn': 314, 'looking': 315, 'upright': 316, 'covered': 317, 'present': 318, 'shut': 319, 'stopped': 320, 've': 321, 'train': 322, 'told': 323, 'desk': 324, 'together': 325, 'another': 326, 'drawers': 327, 'half': 328, 'seven': 329, 'completely': 330, 'noticed': 331, 'carefully': 332, 'dressed': 333, 'fell': 334, 'clearly': 335, 'use': 336, 'far': 337, 'why': 338, 'suddenly': 339, 'since': 340, 'tears': 341, 'realised': 342, 'taking': 343, 'going': 344, 'everyone': 345, 'charwoman': 346, 'cleaner': 347, 'slightly': 348, 'couldn': 349, 'position': 350, 'anyone': 351, 'place': 352, 'eating': 353, 'notice': 354, 'fall': 355, 'yes': 356, 'noise': 357, 'having': 358, 'word': 359, 'peace': 360, 'bring': 361, 'sign': 362, 'others': 363, 'force': 364, 'kept': 365, 'loud': 366, 'maid': 367, 'across': 368, 'needed': 369, 'knew': 370, 'hours': 371, 'speak': 372, 'please': 373, 'else': 374, 'nearly': 375, 'job': 376, 'condition': 377, 'hurried': 378, 'lock': 379, 'mouth': 380, 'leant': 381, 'several': 382, 'uniform': 383, 'finished': 384, 'doorway': 385, 'closed': 386, 'stand': 387, 'rest': 388, 'between': 389, 'walls': 390, 'spread': 391, 'nice': 392, 'lower': 393, 'god': 394, 'different': 395, 'white': 396, 'getting': 397, 'during': 398, 'maybe': 399, 'years': 400, 'o': 401, 'man': 402, 'ill': 403, 'doctor': 404, 'hurriedly': 405, 'near': 406, 'full': 407, 'conversation': 408, 'need': 409, 'both': 410, 'breakfast': 411, 'instead': 412, 'serious': 413, 'difficult': 414, 'part': 415, 'turning': 416, 'carry': 417, 'earlier': 418, 'order': 419, 'calm': 420, 'expected': 421, 'sound': 422, 'question': 423, 'simply': 424, 'easy': 425, 'strength': 426, 'knowing': 427, 'sight': 428, 'hall': 429, 'kind': 430, 'breath': 431, 'ground': 432, 'chance': 433, 'reached': 434, 'pleasure': 435, 'end': 436, 'fully': 437, 'light': 438, 'ceiling': 439, 'actually': 440, 'dish': 441, 'sometimes': 442, 'music': 443, 'totally': 444, 'tired': 445, 'crawl': 446, 'lifted': 447, 'picture': 448, 'forget': 449, 'unable': 450, 'sleeping': 451, 'oh': 452, 'people': 453, 'early': 454, 'whenever': 455, 'are': 456, 'try': 457, 'given': 458, 'tell': 459, 'sort': 460, 'five': 461, 'alarm': 462, 'past': 463, 'quarter': 464, 'fresh': 465, 'office': 466, 'wrong': 467, 'struck': 468, 'leaving': 469, 'aware': 470, 'habit': 471, 'lying': 472, 'caused': 473, 'slightest': 474, 'free': 475, 'painfully': 476, 'air': 477, 'unfortunately': 478, 'street': 479, 'carpet': 480, 'find': 481, 'someone': 482, 'anyway': 483, 'sure': 484, 'year': 485, 'gave': 486, 'listen': 487, 'listening': 488, 'hold': 489, 'meal': 490, 'landing': 491, 'earn': 492, 'impossible': 493, 'foot': 494, 'rushed': 495, 'lost': 496, 'forgotten': 497, 'running': 498, 'flew': 499, 'milk': 500, 'crawling': 501, 'days': 502, 'bent': 503, 'sheet': 504, 'meant': 505, 'many': 506, 'wasn': 507, 'human': 508, 'cut': 509, 'threw': 510, 'wouldn': 511, 'friendly': 512, 'overcome': 513, 'gone': 514, 'pay': 515, 'quietly': 516, 'rush': 517, 'fact': 518, 'usual': 519, 'shocked': 520, 'outside': 521, 'short': 522, 'sides': 523, 'throw': 524, 'learned': 525, 'easily': 526, 'followed': 527, 'harder': 528, 'consideration': 529, 'raised': 530, 'happen': 531, 'patient': 532, 'locked': 533, 'steps': 534, 'necessary': 535, 'show': 536, 'stayed': 537, 'idea': 538, 'glad': 539, 'seriously': 540, 'speaking': 541, 'late': 542, 'beside': 543, 'alright': 544, 'nobody': 545, 'wait': 546, 'loudly': 547, 'holding': 548, 'using': 549, 'start': 550, 'disappeared': 551, 'along': 552, 'wall': 553, 'enormous': 554, 'urge': 555, 'spare': 556, 'stick': 557, 'pulled': 558, 'stop': 559, 'allowed': 560, 'intentions': 561, 'slammed': 562, 'filled': 563, 'either': 564, 'forced': 565, 'surprise': 566, 'carried': 567, 'startled': 568, 'asleep': 569, 'broom': 570, 'send': 571, 'indeed': 572, 'silent': 573, 'slow': 574, 'coming': 575, 'writing': 576, 'immobile': 577, 'shouted': 578, 'apple': 579, 'sit': 580, 'appeared': 581, 'gentleman': 582, 'brown': 583, 'ready': 584, 'small': 585, 'four': 586, 'traveling': 587, 'above': 588, 'hung': 589, 'lady': 590, 'fur': 591, 'hat': 592, 'raising': 593, 'heavy': 594, 'arm': 595, 'bit': 596, 'slight': 597, 'drew': 598, 'touched': 599, 'live': 600, 'ought': 601, 'best': 602, 'talking': 603, 'hope': 604, 'change': 605, 'forwards': 606, 'catch': 607, 'entirely': 608, 'somebody': 609, 'somewhere': 610, 'answer': 611, 'saying': 612, 'gently': 613, 'answered': 614, 'remove': 615, 'travelling': 616, 'disturbed': 617, 'thoughts': 618, 'sensible': 619, 'today': 620, 'push': 621, 'those': 622, 'control': 623, 'itself': 624, 'trying': 625, 'direction': 626, 'hit': 627, 'pushing': 628, 'whatever': 629, 'view': 630, 'confidence': 631, 'entire': 632, 'concern': 633, 'strong': 634, 'mind': 635, 'careful': 636, 'call': 637, 'difficulty': 638, 'smile': 639, 'decision': 640, 'highly': 641, 'employees': 642, 'annoyed': 643, 'fallen': 644, 'has': 645, 'isn': 646, 'evenings': 647, 'working': 648, 'amazed': 649, 'worry': 650, 'happening': 651, 'astonished': 652, 'seem': 653, 'animal': 654, 'entrance': 655, 'locksmith': 656, 'skirts': 657, 'situation': 658, 'teeth': 659, 'lack': 660, 'break': 661, 'wide': 662, 'movement': 663, 'important': 664, 'reading': 665, 'exactly': 666, 'respect': 667, 'our': 668, 'started': 669, 'stretched': 670, 'save': 671, 'mood': 672, 'future': 673, 'talk': 674, 'backwards': 675, 'self': 676, 'newspaper': 677, 'drive': 678, 'merely': 679, 'tip': 680, 'obviously': 681, 'dark': 682, 'crawled': 683, 'darkness': 684, 'such': 685, 'waited': 686, 'empty': 687, 'nonetheless': 688, 'spent': 689, 'bear': 690, 'anxiously': 691, 'rather': 692, 'feet': 693, 'brought': 694, 'month': 695, 'breathe': 696, 'becoming': 697, 'dinner': 698, 'fetch': 699, 'decided': 700, 'appearance': 701, 'high': 702, 'stepped': 703, 'broke': 704, 'arrived': 705, 'coat': 706, 'pockets': 707, 'friends': 708, 'bedroom': 709, 'briefly': 710, 'corner': 711, 'rented': 712, 'rid': 713, 'horrible': 714, 'belly': 715, 'stiff': 716, 'proper': 717, 'peacefully': 718, 'samples': 719, 'recently': 720, 'showed': 721, 'rain': 722, 'sad': 723, 'rolled': 724, 'top': 725, 'bad': 726, 'lift': 727, 'cold': 728, 'slid': 729, 'salesmen': 730, 'sitting': 731, 'spot': 732, 'ago': 733, 'hearing': 734, 'debt': 735, 'six': 736, 'big': 737, 'true': 738, 'deeply': 739, 'lively': 740, 'avoid': 741, 'anger': 742, 'report': 743, 'understanding': 744, 'extremely': 745, 'suspicious': 746, 'yet': 747, 'company': 748, 'apart': 749, 'knock': 750, 'deep': 751, 'inside': 752, 'mixed': 753, 'properly': 754, 'explanation': 755, 'knocking': 756, 'opening': 757, 'consider': 758, 'remembered': 759, 'simple': 760, 'broad': 761, 'directions': 762, 'stretch': 763, 'managed': 764, 'weight': 765, 'occurred': 766, 'injured': 767, 'afraid': 768, 'watching': 769, 'bringing': 770, 'narrow': 771, 'lightly': 772, 'total': 773, 'ask': 774, 'falling': 775, 'raise': 776, 'forth': 777, 'caught': 778, 'firm': 779, 'spend': 780, 'upset': 781, 'wants': 782, 'town': 783, 'explaining': 784, 'silence': 785, 'crying': 786, 'intention': 787, 'suitable': 788, 'behaviour': 789, 'causing': 790, 'employer': 791, 'immediate': 792, 'am': 793, 'giving': 794, 'wish': 795, 'nor': 796, 'waste': 797, 'learn': 798, 'sir': 799, 'shocking': 800, 'suffer': 801, 'sent': 802, 'calmly': 803, 'contrast': 804, 'drawn': 805, 'meanwhile': 806, 'flowed': 807, 'following': 808, 'efforts': 809, 'double': 810, 'occupied': 811, 'hair': 812, 'grey': 813, 'line': 814, 'large': 815, 'remember': 816, 'usually': 817, 'partly': 818, 'shoulders': 819, 'secret': 820, 'sudden': 821, 'waiting': 822, 'convinced': 823, 'provide': 824, 'persuade': 825, 'understood': 826, 'landed': 827, 'outstretched': 828, 'sake': 829, 'coffee': 830, 'fled': 831, 'relatively': 832, 'picked': 833, 'appeals': 834, 'hissing': 835, 'distance': 836, 'further': 837, 'fast': 838, 'shove': 839, 'heavily': 840, 'feeling': 841, 'smell': 842, 'normally': 843, 'enter': 844, 'toe': 845, 'remain': 846, 'uneasy': 847, 'regret': 848, 'hunger': 849, 'greatest': 850, 'test': 851, 'watched': 852, 'realise': 853, 'bare': 854, 'cheese': 855, 'comfortable': 856, 'liked': 857, 'finger': 858, 'eaten': 859, 'midday': 860, 'news': 861, 'delay': 862, 'ate': 863, 'misfortune': 864, 'despair': 865, 'success': 866, 'earned': 867, 'warm': 868, 'fond': 869, 'conservatory': 870, 'christmas': 871, 'continue': 872, 'pull': 873, 'repeated': 874, 'lot': 875, 'interest': 876, 'nodded': 877, 'closer': 878, 'strain': 879, 'sofa': 880, 'child': 881, 'clothes': 882, 'experienced': 883, 'easier': 884, 'carrying': 885, 'improvement': 886, 'letting': 887, 'entertaining': 888, 'dare': 889, 'thrown': 890, 'insist': 891, 'admit': 892, 'worn': 893, 'changed': 894, 'chase': 895, 'screamed': 896, 'shaking': 897, 'death': 898, 'mean': 899, 'standing': 900, 'gold': 901, 'buttons': 902, 'cap': 903, 'movements': 904, 'contrary': 905, 'absolutely': 906, 'dust': 907, 'clean': 908, 'chairs': 909, 'play': 910, 'beards': 911, 'hurry': 912, 'smiled': 913, 'played': 914, 'hallway': 915, 'young': 916, 'neck': 917, 'dead': 918, 'daughter': 919, 'letters': 920, 'woke': 921, 'dreams': 922, 'thin': 923, 'size': 924, 'dream': 925, 'familiar': 926, 'collection': 927, 'salesman': 928, 'frame': 929, 'fitted': 930, 'dull': 931, 'weather': 932, 'drops': 933, 'hitting': 934, 'pane': 935, 'chosen': 936, 'curse': 937, 'worries': 938, 'itch': 939, 'makes': 940, 'stupid': 941, 'instance': 942, 'house': 943, 'breakfasts': 944, 'definitely': 945, 'rung': 946, 'slept': 947, 'mad': 948, 'particularly': 949, 'assistant': 950, 'fifteen': 951, 'service': 952, 'accuse': 953, 'son': 954, 'hungrier': 955, 'cautious': 956, 'painful': 957, 'explain': 958, 'circumstances': 959, 'thank': 960, 'wooden': 961, 'members': 962, 'fist': 963, 'aren': 964, 'putting': 965, 'individual': 966, 'whispered': 967, 'beg': 968, 'acquired': 969, 'conclusions': 970, 'matter': 971, 'covers': 972, 'blow': 973, 'moreover': 974, 'bend': 975, 'imagine': 976, 'gather': 977, 'sensitive': 978, 'eventually': 979, 'miracle': 980, 'price': 981, 'sacrifice': 982, 'remind': 983, 'direct': 984, 'fog': 985, 'breathing': 986, 'real': 987, 'task': 988, 'main': 989, 'load': 990, 'swang': 991, 'ten': 992, 'froze': 993, 'visitor': 994, 'couple': 995, 'enquiries': 996, 'innocent': 997, 'rubbed': 998, 'reply': 999, 'polished': 1000, 'boots': 1001, 'continued': 1002, 'believe': 1003, 'week': 1004, 'paper': 1005, 'relaxation': 1006, 'fretsaw': 1007, 'hanging': 1008, 'ourselves': 1009, 'stubborn': 1010, 'unwell': 1011, 'fortunately': 1012, 'cry': 1013, 'danger': 1014, 'abandoning': 1015, 'excuse': 1016, 'sacked': 1017, 'worried': 1018, 'yourself': 1019, 'unnecessary': 1020, 'fail': 1021, 'unheard': 1022, 'behalf': 1023, 'person': 1024, 'showing': 1025, 'failure': 1026, 'appear': 1027, 'stubbornness': 1028, 'intended': 1029, 'cause': 1030, 'grant': 1031, 'forgetting': 1032, 'attack': 1033, 'haven': 1034, 'staying': 1035, 'eight': 1036, 'insistent': 1037, 'curious': 1038, 'climb': 1039, 'swing': 1040, 'tightly': 1041, 'calmed': 1042, 'surely': 1043, 'cried': 1044, 'quick': 1045, 'spoke': 1046, 'anna': 1047, 'girls': 1048, 'surprising': 1049, 'judge': 1050, 'whispering': 1051, 'adhesive': 1052, 'rested': 1053, 'grasp': 1054, 'jaw': 1055, 'ignoring': 1056, 'damage': 1057, 'excitedly': 1058, 'concentration': 1059, 'handle': 1060, 'entering': 1061, 'sounded': 1062, 'driven': 1063, 'steady': 1064, 'unfolded': 1065, 'sank': 1066, 'fists': 1067, 'wanting': 1068, 'shook': 1069, 'bolted': 1070, 'hospital': 1071, 'windows': 1072, 'piercing': 1073, 'washing': 1074, 'newspapers': 1075, 'opposite': 1076, 'stairs': 1077, 'below': 1078, 'achieved': 1079, 'removed': 1080, 'travellers': 1081, 'particular': 1082, 'overview': 1083, 'exhausted': 1084, 'lips': 1085, 'trembling': 1086, 'panic': 1087, 'stairway': 1088, 'besides': 1089, 'won': 1090, 'banister': 1091, 'believing': 1092, 'swayed': 1093, 'jumped': 1094, 'fingers': 1095, 'hurrying': 1096, 'jaws': 1097, 'screaming': 1098, 'chin': 1099, 'run': 1100, 'overcoat': 1101, 'stamped': 1102, 'noises': 1103, 'choice': 1104, 'frequent': 1105, 'unbearable': 1106, 'confused': 1107, 'pleased': 1108, 'space': 1109, 'experience': 1110, 'regard': 1111, 'stuck': 1112, 'woken': 1113, 'afterwards': 1114, 'hadn': 1115, 'impression': 1116, 'leading': 1117, 'electric': 1118, 'badly': 1119, 'dragged': 1120, 'pieces': 1121, 'bread': 1122, 'disappointment': 1123, 'tender': 1124, 'worked': 1125, 'taste': 1126, 'crack': 1127, 'pride': 1128, 'frightening': 1129, 'arrange': 1130, 'shame': 1131, 'passed': 1132, 'frequently': 1133, 'led': 1134, 'opportunity': 1135, 'stranger': 1136, 'hungry': 1137, 'draw': 1138, 'splashed': 1139, 'vegetables': 1140, 'sauce': 1141, 'dry': 1142, 'water': 1143, 'permanently': 1144, 'aside': 1145, 'placed': 1146, 'injuries': 1147, 'hurt': 1148, 'less': 1149, 'foods': 1150, 'suffocating': 1151, 'received': 1152, 'distress': 1153, 'comment': 1154, 'cleared': 1155, 'directly': 1156, 'rooms': 1157, 'meals': 1158, 'hour': 1159, 'receive': 1160, 'thanks': 1161, 'prospects': 1162, 'cash': 1163, 'collapsed': 1164, 'reduced': 1165, 'gratitude': 1166, 'unlike': 1167, 'plan': 1168, 'interrupted': 1169, 'explanations': 1170, 'keeping': 1171, 'unexpected': 1172, 'holiday': 1173, 'elderly': 1174, 'suffered': 1175, 'struggling': 1176, 'wearing': 1177, 'helping': 1178, 'leather': 1179, 'hot': 1180, 'lie': 1181, 'known': 1182, 'lived': 1183, 'twice': 1184, 'tidied': 1185, 'burdensome': 1186, 'unpleasant': 1187, 'transformation': 1188, 'staring': 1189, 'threatened': 1190, 'arrangement': 1191, 'appreciated': 1192, 'somewhat': 1193, 'listened': 1194, 'closely': 1195, 'removing': 1196, 'helped': 1197, 'unless': 1198, 'heaviest': 1199, 'warnings': 1200, 'minutes': 1201, 'abandoned': 1202, 'months': 1203, 'age': 1204, 'refused': 1205, 'dissuade': 1206, 'poked': 1207, 'considerate': 1208, 'fro': 1209, 'school': 1210, 'glass': 1211, 'watch': 1212, 'shall': 1213, 'spoken': 1214, 'various': 1215, 'bottles': 1216, 'reproach': 1217, 'confusion': 1218, 'fainted': 1219, 'disappear': 1220, 'neglected': 1221, 'laying': 1222, 'nightgown': 1223, 'walk': 1224, 'companions': 1225, 'collar': 1226, 'bank': 1227, 'forgot': 1228, 'shock': 1229, 'point': 1230, 'lodged': 1231, 'dared': 1232, 'injury': 1233, 'current': 1234, 'permission': 1235, 'hotel': 1236, 'shop': 1237, 'wake': 1238, 'sewing': 1239, 'exchange': 1240, 'peaceful': 1241, 'tug': 1242, 'ear': 1243, 'smaller': 1244, 'sold': 1245, 'strangers': 1246, 'cheek': 1247, 'whom': 1248, 'shown': 1249, 'indifferent': 1250, 'dirt': 1251, 'cleaning': 1252, 'alone': 1253, 'closing': 1254, 'amazement': 1255, 'crossed': 1256, 'failed': 1257, 'dung': 1258, 'beetle': 1259, 'indicating': 1260, 'toward': 1261, 'prepared': 1262, 'spit': 1263, 'anywhere': 1264, 'lain': 1265, 'meat': 1266, 'bowed': 1267, 'throughout': 1268, 'love': 1269, 'begin': 1270, 'seat': 1271, 'everywhere': 1272, 'obvious': 1273, 'beautiful': 1274, 'expression': 1275, 'emotion': 1276, 'lap': 1277, 'beds': 1278, 'tenants': 1279, 'action': 1280, 'ahead': 1281, 'weak': 1282, 'brother': 1283, 'endure': 1284, 'certainty': 1285, 'vigorously': 1286, 'willing': 1287, 'glance': 1288, 'weaker': 1289, 'slamming': 1290, 'corpse': 1291, 'men': 1292, 'wife': 1293, 'irritation': 1294, 'tram': 1295, 'troubled': 1296, 'transformed': 1297, 'vermin': 1298, 'armour': 1299, 'domed': 1300, 'divided': 1301, 'arches': 1302, 'sections': 1303, 'bedding': 1304, 'cover': 1305, 'slide': 1306, 'pitifully': 1307, 'compared': 1308, 'waved': 1309, 'helplessly': 1310, 'textile': 1311, 'illustrated': 1312, 'magazine': 1313, 'housed': 1314, 'gilded': 1315, 'boa': 1316, 'muff': 1317, 'viewer': 1318, 'nonsense': 1319, 'hundred': 1320, 'floundering': 1321, 'mild': 1322, 'strenuous': 1323, 'career': 1324, 'takes': 1325, 'connections': 1326, 'irregular': 1327, 'contact': 1328, 'hell': 1329, 'headboard': 1330, 'lots': 1331, 'spots': 1332, 'shudder': 1333, 'former': 1334, 'luxury': 1335, 'guest': 1336, 'copy': 1337, 'contract': 1338, 'kicked': 1339, 'knows': 1340, 'funny': 1341, 'subordinates': 1342, 'suppose': 1343, 'leaves': 1344, 'ticking': 1345, 'heaven': 1346, 'rattling': 1347, 'packed': 1348, 'spineless': 1349, 'reported': 1350, 'sick': 1351, 'strained': 1352, 'medical': 1353, 'insurance': 1354, 'lazy': 1355, 'accept': 1356, 'recommendation': 1357, 'claim': 1358, 'believed': 1359, 'workshy': 1360, 'case': 1361, 'excessive': 1362, 'sleepiness': 1363, 'thinking': 1364, 'decide': 1365, 'gentle': 1366, 'answering': 1367, 'recognised': 1368, 'uncontrollable': 1369, 'squeaking': 1370, 'echo': 1371, 'unclear': 1372, 'hearer': 1373, 'unsure': 1374, 'contented': 1375, 'satisfied': 1376, 'shuffled': 1377, 'expectations': 1378, 'warning': 1379, 'deepness': 1380, 'plaintively': 1381, 'strangeness': 1382, 'enunciating': 1383, 'pauses': 1384, 'congratulated': 1385, 'locking': 1386, 'awkwardly': 1387, 'pure': 1388, 'imagination': 1389, 'wondered': 1390, 'imaginings': 1391, 'resolve': 1392, 'doubt': 1393, 'occupational': 1394, 'hazard': 1395, 'exceptionally': 1396, 'continuously': 1397, 'leg': 1398, 'frenzy': 1399, 'carelessly': 1400, 'shoved': 1401, 'chose': 1402, 'bedpost': 1403, 'burning': 1404, 'breadth': 1405, 'bulk': 1406, 'lose': 1407, 'consciousness': 1408, 'sighing': 1409, 'struggled': 1410, 'chaos': 1411, 'rushing': 1412, 'desperate': 1413, 'enveloped': 1414, 'cheer': 1415, 'offer': 1416, 'stillness': 1417, 'natural': 1418, 'strikes': 1419, 'swinging': 1420, 'length': 1421, 'succeeded': 1422, 'injuring': 1423, 'bound': 1424, 'risked': 1425, 'sticking': 1426, 'method': 1427, 'game': 1428, 'rock': 1429, 'dome': 1430, 'peel': 1431, 'hopefully': 1432, 'suppress': 1433, 'balance': 1434, 'rocked': 1435, 'final': 1436, 'ring': 1437, 'danced': 1438, 'nonsensical': 1439, 'greeting': 1440, 'condemned': 1441, 'shortcoming': 1442, 'louts': 1443, 'faithful': 1444, 'devoted': 1445, 'pangs': 1446, 'conscience': 1447, 'trainees': 1448, 'assuming': 1449, 'trusted': 1450, 'wisdom': 1451, 'investigate': 1452, 'thump': 1453, 'softened': 1454, 'elastic': 1455, 'muffled': 1456, 'noticeable': 1457, 'concede': 1458, 'gruff': 1459, 'footsteps': 1460, 'adjoining': 1461, 'daring': 1462, 'personally': 1463, 'forgive': 1464, 'untidiness': 1465, 'missed': 1466, 'lad': 1467, 'thinks': 1468, 'cross': 1469, 'goes': 1470, 'sits': 1471, 'reads': 1472, 'studies': 1473, 'timetables': 1474, 'opens': 1475, 'thoughtfully': 1476, 'miss': 1477, 'commerce': 1478, 'considerations': 1479, 'impatiently': 1480, 'join': 1481, 'begun': 1482, 'losing': 1483, 'pursue': 1484, 'demands': 1485, 'minor': 1486, 'discourtesy': 1487, 'disturbing': 1488, 'barricade': 1489, 'mention': 1490, 'duties': 1491, 'request': 1492, 'peculiar': 1493, 'whims': 1494, 'suggest': 1495, 'entrusted': 1496, 'honour': 1497, 'incomprehensible': 1498, 'whatsoever': 1499, 'intercede': 1500, 'secure': 1501, 'originally': 1502, 'private': 1503, 'turnover': 1504, 'unsatisfactory': 1505, 'recognise': 1506, 'cannot': 1507, 'allow': 1508, 'excitement': 1509, 'dizziness': 1510, 'symptom': 1511, 'illness': 1512, 'basis': 1513, 'accusations': 1514, 'read': 1515, 'latest': 1516, 'contracts': 1517, 'recommend': 1518, 'gushed': 1519, 'practise': 1520, 'responsibility': 1521, 'station': 1522, 'smooth': 1523, 'nearby': 1524, 'edges': 1525, 'fools': 1526, 'communicated': 1527, 'calmness': 1528, 'screams': 1529, 'clapping': 1530, 'swishing': 1531, 'wrenching': 1532, 'banging': 1533, 'homes': 1534, 'awful': 1535, 'calmer': 1536, 'clearer': 1537, 'ears': 1538, 'response': 1539, 'confident': 1540, 'wise': 1541, 'among': 1542, 'achievements': 1543, 'distinguish': 1544, 'crucial': 1545, 'coughed': 1546, 'care': 1547, 'coughs': 1548, 'tips': 1549, 'recover': 1550, 'involved': 1551, 'fluid': 1552, 'dripped': 1553, 'greatly': 1554, 'encouraged': 1555, 'calling': 1556, 'paying': 1557, 'snapped': 1558, 'regained': 1559, 'exclaim': 1560, 'soughing': 1561, 'wind': 1562, 'nearest': 1563, 'retreating': 1564, 'invisible': 1565, 'dishevelled': 1566, 'breast': 1567, 'hostile': 1568, 'clenched': 1569, 'uncertainly': 1570, 'wept': 1571, 'powerful': 1572, 'peered': 1573, 'lighter': 1574, 'endless': 1575, 'black': 1576, 'building': 1577, 'austere': 1578, 'regular': 1579, 'facade': 1580, 'throwing': 1581, 'droplets': 1582, 'number': 1583, 'photograph': 1584, 'lieutenant': 1585, 'army': 1586, 'sword': 1587, 'carefree': 1588, 'bearing': 1589, 'pack': 1590, 'commercial': 1591, 'traveller': 1592, 'arduous': 1593, 'accurately': 1594, 'temporarily': 1595, 'diligence': 1596, 'trapped': 1597, 'likes': 1598, 'wage': 1599, 'soft': 1600, 'prejudice': 1601, 'staff': 1602, 'businessman': 1603, 'mistakes': 1604, 'harshly': 1605, 'victim': 1606, 'gossip': 1607, 'groundless': 1608, 'complaints': 1609, 'defend': 1610, 'arrive': 1611, 'trip': 1612, 'harmful': 1613, 'effects': 1614, 'protruding': 1615, 'stared': 1616, 'steadily': 1617, 'gradually': 1618, 'prohibition': 1619, 'supernatural': 1620, 'extreme': 1621, 'depended': 1622, 'clever': 1623, 'lover': 1624, 'considering': 1625, 'speech': 1626, 'reach': 1627, 'ridiculously': 1628, 'scream': 1629, 'sought': 1630, 'numerous': 1631, 'solid': 1632, 'sorrows': 1633, 'crouched': 1634, 'engrossed': 1635, 'shouting': 1636, 'pity': 1637, 'suggested': 1638, 'unthinking': 1639, 'seeming': 1640, 'pot': 1641, 'knocked': 1642, 'gush': 1643, 'pouring': 1644, 'snapping': 1645, 'flow': 1646, 'anew': 1647, 'reaching': 1648, 'leapt': 1649, 'shouts': 1650, 'resounding': 1651, 'staircase': 1652, 'flight': 1653, 'controlled': 1654, 'impeding': 1655, 'seized': 1656, 'stamping': 1657, 'humbly': 1658, 'chilly': 1659, 'draught': 1660, 'curtains': 1661, 'fluttered': 1662, 'blown': 1663, 'drove': 1664, 'wild': 1665, 'practice': 1666, 'impatient': 1667, 'threat': 1668, 'lethal': 1669, 'disgust': 1670, 'incapable': 1671, 'anxious': 1672, 'glances': 1673, 'hinder': 1674, 'mistake': 1675, 'occur': 1676, 'fixed': 1677, 'preparation': 1678, 'pleasant': 1679, 'angle': 1680, 'flank': 1681, 'scraped': 1682, 'vile': 1683, 'flecks': 1684, 'quivering': 1685, 'hefty': 1686, 'released': 1687, 'flying': 1688, 'bleeding': 1689, 'ii': 1690, 'awoke': 1691, 'coma': 1692, 'lamps': 1693, 'shone': 1694, 'palely': 1695, 'tops': 1696, 'clumsily': 1697, 'antennae': 1698, 'beginning': 1699, 'value': 1700, 'scar': 1701, 'limped': 1702, 'rows': 1703, 'events': 1704, 'lifelessly': 1705, 'sweetened': 1706, 'floating': 1707, 'laughed': 1708, 'dipped': 1709, 'covering': 1710, 'snuffling': 1711, 'favourite': 1712, 'drink': 1713, 'centre': 1714, 'gas': 1715, 'lit': 1716, 'write': 1717, 'recent': 1718, 'lead': 1719, 'gazing': 1720, 'wealth': 1721, 'comfort': 1722, 'resolved': 1723, 'timorous': 1724, 'vain': 1725, 'previous': 1726, 'unlocked': 1727, 'keys': 1728, 'gaslight': 1729, 'awake': 1730, 'distinctly': 1731, 'plenty': 1732, 'undisturbed': 1733, 'tall': 1734, 'ease': 1735, 'underneath': 1736, 'vague': 1737, 'hopes': 1738, 'conclusion': 1739, 'patience': 1740, 'unpleasantness': 1741, 'impose': 1742, 'decisions': 1743, 'ended': 1744, 'flown': 1745, 'edge': 1746, 'terrible': 1747, 'rag': 1748, 'imagining': 1749, 'wildest': 1750, 'possibilities': 1751, 'guessed': 1752, 'goodness': 1753, 'selection': 1754, 'rotten': 1755, 'bones': 1756, 'raisins': 1757, 'almonds': 1758, 'declared': 1759, 'inedible': 1760, 'roll': 1761, 'butter': 1762, 'salt': 1763, 'poured': 1764, 'feelings': 1765, 'whirred': 1766, 'healed': 1767, 'knife': 1768, 'yesterday': 1769, 'sucking': 1770, 'greedily': 1771, 'compellingly': 1772, 'attracted': 1773, 'watering': 1774, 'consumed': 1775, 'lethargic': 1776, 'withdraw': 1777, 'rounded': 1778, 'bulging': 1779, 'unselfconsciously': 1780, 'swept': 1781, 'overs': 1782, 'mixing': 1783, 'dropped': 1784, 'bin': 1785, 'lid': 1786, 'second': 1787, 'errand': 1788, 'starve': 1789, 'feeding': 1790, 'suffering': 1791, 'content': 1792, 'sighs': 1793, 'saints': 1794, 'construed': 1795, 'enjoyed': 1796, 'diligently': 1797, 'sadly': 1798, 'scurry': 1799, 'appropriate': 1800, 'press': 1801, 'seldom': 1802, 'mealtime': 1803, 'subject': 1804, 'knees': 1805, 'begged': 1806, 'within': 1807, 'tearfully': 1808, 'thanking': 1809, 'dismissal': 1810, 'swore': 1811, 'emphatically': 1812, 'cooking': 1813, 'bother': 1814, 'unsuccessfully': 1815, 'similar': 1816, 'drank': 1817, 'beer': 1818, 'hoping': 1819, 'add': 1820, 'selfish': 1821, 'housekeeper': 1822, 'explained': 1823, 'finances': 1824, 'receipt': 1825, 'document': 1826, 'box': 1827, 'saved': 1828, 'complicated': 1829, 'item': 1830, 'incarcerated': 1831, 'fiery': 1832, 'vigour': 1833, 'junior': 1834, 'representative': 1835, 'overnight': 1836, 'ways': 1837, 'converted': 1838, 'benefit': 1839, 'delighted': 1840, 'splendour': 1841, 'costs': 1842, 'affection': 1843, 'return': 1844, 'gifted': 1845, 'expressive': 1846, 'violinist': 1847, 'expense': 1848, 'periods': 1849, 'mentioned': 1850, 'lovely': 1851, 'planned': 1852, 'grand': 1853, 'announcement': 1854, 'pointless': 1855, 'wearily': 1856, 'matters': 1857, 'misfortunes': 1858, 'available': 1859, 'meantime': 1860, 'accumulated': 1861, 'accumulating': 1862, 'enthusiasm': 1863, 'thrift': 1864, 'caution': 1865, 'surplus': 1866, 'reduce': 1867, 'freed': 1868, 'enable': 1869, 'maintain': 1870, 'emergencies': 1871, 'healthy': 1872, 'lacking': 1873, 'clumsy': 1874, 'asthma': 1875, 'seventeen': 1876, 'till': 1877, 'enviable': 1878, 'consisting': 1879, 'joining': 1880, 'modest': 1881, 'pleasures': 1882, 'cool': 1883, 'wink': 1884, 'scratching': 1885, 'climbing': 1886, 'sill': 1887, 'propped': 1888, 'leaning': 1889, 'stare': 1890, 'sense': 1891, 'freedom': 1892, 'distinct': 1893, 'charlottenstrasse': 1894, 'city': 1895, 'barren': 1896, 'sky': 1897, 'earth': 1898, 'mingled': 1899, 'inseparably': 1900, 'observant': 1901, 'exact': 1902, 'inner': 1903, 'naturally': 1904, 'pretend': 1905, 'entered': 1906, 'sooner': 1907, 'precaution': 1908, 'shivering': 1909, 'ordeal': 1910, 'motionless': 1911, 'bite': 1912, 'hide': 1913, 'flee': 1914, 'protruded': 1915, 'bedsheet': 1916, 'arranged': 1917, 'glimpsed': 1918, 'fourteen': 1919, 'girl': 1920, 'useless': 1921, 'behaved': 1922, 'visit': 1923, 'persuaded': 1924, 'approved': 1925, 'unfortunate': 1926, 'courage': 1927, 'adult': 1928, 'appreciation': 1929, 'square': 1930, 'meters': 1931, 'entertain': 1932, 'freely': 1933, 'relaxed': 1934, 'happy': 1935, 'crash': 1936, 'traces': 1937, 'sixteen': 1938, 'bravely': 1939, 'cook': 1940, 'choose': 1941, 'approached': 1942, 'express': 1943, 'joy': 1944, 'folds': 1945, 'refrained': 1946, 'spying': 1947, 'pair': 1948, 'feeble': 1949, 'heaving': 1950, 'lasted': 1951, 'labouring': 1952, 'saddened': 1953, 'heart': 1954, 'whose': 1955, 'whereabouts': 1956, 'tone': 1957, 'added': 1958, 'cope': 1959, 'comes': 1960, 'unchanged': 1961, 'communication': 1962, 'monotonous': 1963, 'emptied': 1964, 'transform': 1965, 'cave': 1966, 'inherited': 1967, 'unimpeded': 1968, 'shaken': 1969, 'influence': 1970, 'mindlessly': 1971, 'loss': 1972, 'advantage': 1973, 'agree': 1974, 'spokesman': 1975, 'concerned': 1976, 'advice': 1977, 'sufficient': 1978, 'childish': 1979, 'perversity': 1980, 'whereas': 1981, 'enthusiastic': 1982, 'tempted': 1983, 'dominated': 1984, 'groaning': 1985, 'pulling': 1986, 'inch': 1987, 'startlement': 1988, 'prevent': 1989, 'attract': 1990, 'assure': 1991, 'unusual': 1992, 'calls': 1993, 'scraping': 1994, 'assailed': 1995, 'emptying': 1996, 'dear': 1997, 'containing': 1998, 'tools': 1999, 'homework': 2000, 'trainee': 2001, 'infant': 2002, 'catching': 2003, 'sallied': 2004, 'denuded': 2005, 'copious': 2006, 'firmly': 2007, 'met': 2008, 'albeit': 2009, 'tremor': 2010, 'safe': 2011, 'unyielding': 2012, 'jump': 2013, 'patch': 2014, 'flowers': 2015, 'wallpaper': 2016, 'glowering': 2017, 'smelling': 2018, 'salts': 2019, 'faint': 2020, 'advise': 2021, 'bottle': 2022, 'splinter': 2023, 'caustic': 2024, 'medicine': 2025, 'delaying': 2026, 'oppressed': 2027, 'anxiety': 2028, 'spin': 2029, 'numb': 2030, 'subdued': 2031, 'openly': 2032, 'responsible': 2033, 'act': 2034, 'violence': 2035, 'subtleties': 2036, 'ah': 2037, 'sounding': 2038, 'angry': 2039, 'imagined': 2040, 'entombed': 2041, 'trips': 2042, 'armchair': 2043, 'sunday': 2044, 'public': 2045, 'wrapped': 2046, 'labour': 2047, 'walking': 2048, 'invariably': 2049, 'smart': 2050, 'blue': 2051, 'banking': 2052, 'institute': 2053, 'emerged': 2054, 'bushy': 2055, 'eyebrows': 2056, 'alert': 2057, 'unkempt': 2058, 'combed': 2059, 'scalp': 2060, 'monogram': 2061, 'arc': 2062, 'trouser': 2063, 'bottom': 2064, 'determination': 2065, 'walked': 2066, 'unusually': 2067, 'soles': 2068, 'wasted': 2069, 'strict': 2070, 'scurried': 2071, 'decisive': 2072, 'largely': 2073, 'feared': 2074, 'provoking': 2075, 'step': 2076, 'countless': 2077, 'noticeably': 2078, 'lungs': 2079, 'reliable': 2080, 'lurched': 2081, 'muster': 2082, 'saving': 2083, 'concealed': 2084, 'carved': 2085, 'notches': 2086, 'protrusions': 2087, 'tossed': 2088, 'bombard': 2089, 'fruit': 2090, 'bowl': 2091, 'sideboard': 2092, 'aim': 2093, 'red': 2094, 'apples': 2095, 'motors': 2096, 'glanced': 2097, 'harm': 2098, 'squarely': 2099, 'drag': 2100, 'incredible': 2101, 'changing': 2102, 'nailed': 2103, 'senses': 2104, 'blouse': 2105, 'unfastened': 2106, 'sliding': 2107, 'stumbling': 2108, 'uniting': 2109, 'ability': 2110, 'begging': 2111, 'iii': 2112, 'flesh': 2113, 'visible': 2114, 'reminder': 2115, 'revolting': 2116, 'form': 2117, 'member': 2118, 'treated': 2119, 'enemy': 2120, 'duty': 2121, 'swallow': 2122, 'revulsion': 2123, 'mobility': 2124, 'ancient': 2125, 'invalid': 2126, 'deterioration': 2127, 'opinion': 2128, 'thus': 2129, 'differently': 2130, 'conversations': 2131, 'ones': 2132, 'longing': 2133, 'damp': 2134, 'nowadays': 2135, 'lamp': 2136, 'sew': 2137, 'fancy': 2138, 'underwear': 2139, 'fashion': 2140, 'sales': 2141, 'shorthand': 2142, 'french': 2143, 'dozing': 2144, 'grin': 2145, 'unused': 2146, 'peg': 2147, 'slumber': 2148, 'serve': 2149, 'expecting': 2150, 'superior': 2151, 'result': 2152, 'shabbier': 2153, 'stains': 2154, 'shiny': 2155, 'uncomfortable': 2156, 'obstinate': 2157, 'regularly': 2158, 'importune': 2159, 'reproaches': 2160, 'refusing': 2161, 'sleeve': 2162, 'whisper': 2163, 'endearments': 2164, 'effect': 2165, 'sink': 2166, 'deeper': 2167, 'abruptly': 2168, 'supported': 2169, 'needle': 2170, 'pen': 2171, 'overworked': 2172, 'household': 2173, 'budget': 2174, 'dismissed': 2175, 'thick': 2176, 'boned': 2177, 'flapped': 2178, 'amount': 2179, 'hoped': 2180, 'items': 2181, 'jewellery': 2182, 'belonging': 2183, 'functions': 2184, 'celebrations': 2185, 'loudest': 2186, 'complaint': 2187, 'imaginable': 2188, 'transferring': 2189, 'address': 2190, 'reasons': 2191, 'transport': 2192, 'crate': 2193, 'holes': 2194, 'related': 2195, 'world': 2196, 'expects': 2197, 'poor': 2198, 'sacrificed': 2199, 'behest': 2200, 'customers': 2201, 'mingle': 2202, 'eyed': 2203, 'affairs': 2204, 'apprentices': 2205, 'teaboy': 2206, 'businesses': 2207, 'chambermaids': 2208, 'provincial': 2209, 'memory': 2210, 'cashier': 2211, 'inaccessible': 2212, 'rage': 2213, 'plans': 2214, 'pantry': 2215, 'entitled': 2216, 'sweep': 2217, 'untouched': 2218, 'quicker': 2219, 'smears': 2220, 'balls': 2221, 'filth': 2222, 'worst': 2223, 'places': 2224, 'weeks': 2225, 'touchy': 2226, 'thoroughly': 2227, 'bucketfuls': 2228, 'dampness': 2229, 'bitter': 2230, 'punished': 2231, 'aggrieved': 2232, 'mothers': 2233, 'imploring': 2234, 'convulsive': 2235, 'helpless': 2236, 'agitated': 2237, 'accused': 2238, 'quaking': 2239, 'thumped': 2240, 'hissed': 2241, 'widow': 2242, 'robust': 2243, 'bone': 2244, 'structure': 2245, 'withstand': 2246, 'hardest': 2247, 'repelled': 2248, 'curiosity': 2249, 'chasing': 2250, 'considered': 2251, 'responded': 2252, 'disturb': 2253, 'windowpanes': 2254, 'spring': 2255, 'resentful': 2256, 'infirm': 2257, 'intending': 2258, 'changes': 2259, 'earnest': 2260, 'peering': 2261, 'tidy': 2262, 'establishment': 2263, 'clutter': 2264, 'tolerate': 2265, 'dirty': 2266, 'furnishings': 2267, 'equipment': 2268, 'superfluous': 2269, 'discard': 2270, 'dustbins': 2271, 'chuck': 2272, 'object': 2273, 'woman': 2274, 'likely': 2275, 'junk': 2276, 'enjoy': 2277, 'darkest': 2278, 'formerly': 2279, 'serviettes': 2280, 'knives': 2281, 'forks': 2282, 'piled': 2283, 'potatoes': 2284, 'steaming': 2285, 'dishes': 2286, 'count': 2287, 'authority': 2288, 'piece': 2289, 'wishing': 2290, 'establish': 2291, 'sufficiently': 2292, 'cooked': 2293, 'satisfaction': 2294, 'mumbled': 2295, 'perfect': 2296, 'remarkable': 2297, 'chewing': 2298, 'perform': 2299, 'toothless': 2300, 'feed': 2301, 'dying': 2302, 'produced': 2303, 'page': 2304, 'smoking': 2305, 'attentive': 2306, 'cosy': 2307, 'player': 2308, 'therefore': 2309, 'exaggerated': 2310, 'courtesy': 2311, 'offered': 2312, 'paid': 2313, 'thoughtless': 2314, 'hidden': 2315, 'threads': 2316, 'hairs': 2317, 'remains': 2318, 'wipe': 2319, 'shy': 2320, 'immaculate': 2321, 'preoccupied': 2322, 'notes': 2323, 'withdrew': 2324, 'heads': 2325, 'sunk': 2326, 'volume': 2327, 'observed': 2328, 'disappointed': 2329, 'performance': 2330, 'politeness': 2331, 'unnerving': 2332, 'blew': 2333, 'smoke': 2334, 'cigarettes': 2335, 'upwards': 2336, 'noses': 2337, 'beautifully': 2338, 'lines': 2339, 'melancholy': 2340, 'meet': 2341, 'captivate': 2342, 'unknown': 2343, 'nourishment': 2344, 'yearning': 2345, 'determined': 2346, 'skirt': 2347, 'hiss': 2348, 'attackers': 2349, 'refuse': 2350, 'shoulder': 2351, 'kiss': 2352, 'necklace': 2353, 'pointing': 2354, 'wasting': 2355, 'forefinger': 2356, 'driving': 2357, 'attempted': 2358, 'block': 2359, 'dawning': 2360, 'realisation': 2361, 'neighbour': 2362, 'tugged': 2363, 'drop': 2364, 'bow': 2365, 'hang': 2366, 'limply': 2367, 'instrument': 2368, 'laboriously': 2369, 'pressure': 2370, 'pillows': 2371, 'slipped': 2372, 'obsessed': 2373, 'owed': 2374, 'urged': 2375, 'thunder': 2376, 'thereby': 2377, 'halt': 2378, 'declare': 2379, 'glancing': 2380, 'gain': 2381, 'repugnant': 2382, 'conditions': 2383, 'prevail': 2384, 'decisively': 2385, 'proceed': 2386, 'damages': 2387, 'grounds': 2388, 'joined': 2389, 'staggered': 2390, 'stretching': 2391, 'nap': 2392, 'uncontrolled': 2393, 'nodding': 2394, 'introduction': 2395, 'monster': 2396, 'humanly': 2397, 'cough': 2398, 'dully': 2399, 'deranged': 2400, 'forehead': 2401, 'definite': 2402, 'ideas': 2403, 'plates': 2404, 'occasionally': 2405, 'coughing': 2406, 'tortured': 2407, 'wiped': 2408, 'mechanical': 2409, 'sympathy': 2410, 'shrugged': 2411, 'helplessness': 2412, 'displacing': 2413, 'acceptance': 2414, 'harmed': 2415, 'beings': 2416, 'lives': 2417, 'persecuting': 2418, 'streets': 2419, 'starting': 2420, 'beyond': 2421, 'comprehension': 2422, 'excited': 2423, 'protect': 2424, 'startling': 2425, 'wracked': 2426, 'required': 2427, 'deal': 2428, 'repeatedly': 2429, 'striking': 2430, 'alarmed': 2431, 'unhappy': 2432, 'exhaustion': 2433, 'panting': 2434, 'separated': 2435, 'noticing': 2436, 'concentrated': 2437, 'distract': 2438, 'sprung': 2439, 'discovery': 2440, 'spindly': 2441, 'unnatural': 2442, 'aching': 2443, 'altogether': 2444, 'decayed': 2445, 'inflamed': 2446, 'area': 2447, 'strongly': 2448, 'rumination': 2449, 'tower': 2450, 'strike': 2451, 'weakly': 2452, 'nostrils': 2453, 'brief': 2454, 'special': 2455, 'purpose': 2456, 'martyr': 2457, 'attributed': 2458, 'tickle': 2459, 'nuisance': 2460, 'resistance': 2461, 'whistled': 2462, 'yank': 2463, 'shout': 2464, 'bedrooms': 2465, 'ave': 2466, 'stone': 2467, 'marriage': 2468, 'blanket': 2469, 'nightdress': 2470, 'paleness': 2471, 'confirm': 2472, 'enquiringly': 2473, 'checked': 2474, 'checking': 2475, 'replied': 2476, 'prove': 2477, 'sending': 2478, 'sideways': 2479, 'complete': 2480, 'example': 2481, 'dried': 2482, 'pained': 2483, 'warmth': 2484, 'march': 2485, 'irritably': 2486, 'coats': 2487, 'disconcerted': 2488, 'sweetly': 2489, 'backs': 2490, 'continually': 2491, 'gleeful': 2492, 'anticipation': 2493, 'quarrel': 2494, 'favour': 2495, 'contents': 2496, 'rearranging': 2497, 'positions': 2498, 'humility': 2499, 'strides': 2500, 'rubbing': 2501, 'friend': 2502, 'fear': 2503, 'connection': 2504, 'leader': 2505, 'hats': 2506, 'sticks': 2507, 'holder': 2508, 'premises': 2509, 'mistrust': 2510, 'leaned': 2511, 'progress': 2512, 'reappear': 2513, 'moments': 2514, 'butcher': 2515, 'boy': 2516, 'proud': 2517, 'posture': 2518, 'tray': 2519, 'nearer': 2520, 'relieved': 2521, 'wrote': 2522, 'excusal': 2523, 'employers': 2524, 'contractor': 2525, 'principal': 2526, 'tremendous': 2527, 'vertical': 2528, 'ostrich': 2529, 'feather': 2530, 'source': 2531, 'laugh': 2532, 'needn': 2533, 'sorted': 2534, 'intent': 2535, 'continuing': 2536, 'describing': 2537, 'detail': 2538, 'prevented': 2539, 'telling': 2540, 'peeved': 2541, 'cheerio': 2542, 'sharply': 2543, 'terribly': 2544, 'tonight': 2545, 'gets': 2546, 'destroyed': 2547, 'gained': 2548, 'twisted': 2549, 'stuff': 2550, 'kissed': 2551, 'hugged': 2552, 'country': 2553, 'sunshine': 2554, 'comfortably': 2555, 'seats': 2556, 'discussed': 2557, 'examination': 2558, 'jobs': 2559, 'promise': 2560, 'cheaper': 2561, 'location': 2562, 'practical': 2563, 'livelier': 2564, 'cheeks': 2565, 'pale': 2566, 'simultaneously': 2567, 'blossoming': 2568, 'built': 2569, 'quieter': 2570, 'agreed': 2571, 'confirmation': 2572, 'destination': 2573}\n"
          ]
        }
      ]
    },
    {
      "cell_type": "code",
      "source": [
        "# h = tokenizer.word_index"
      ],
      "metadata": {
        "id": "tCM1_nY04F6C"
      },
      "execution_count": 47,
      "outputs": []
    },
    {
      "cell_type": "code",
      "source": [
        "# ?h"
      ],
      "metadata": {
        "id": "HPi1GjtE7NtE"
      },
      "execution_count": 48,
      "outputs": []
    },
    {
      "cell_type": "code",
      "source": [
        "\n",
        "\n",
        "# D = [key for key in h]\n",
        "D = [key for key,val in tokenizer.word_index.items() ]\n"
      ],
      "metadata": {
        "id": "8w8oYnAj4cmn"
      },
      "execution_count": 49,
      "outputs": []
    },
    {
      "cell_type": "code",
      "source": [
        "# -1 because tokenizer indexing from prediction class list index start from 0\n",
        "\n",
        "D[predicted_word_index-1]"
      ],
      "metadata": {
        "colab": {
          "base_uri": "https://localhost:8080/",
          "height": 35
        },
        "id": "S_0-MuOU9Zet",
        "outputId": "d95f7918-a9c9-45f6-86a0-184a25d5bae3"
      },
      "execution_count": 50,
      "outputs": [
        {
          "output_type": "execute_result",
          "data": {
            "text/plain": [
              "'his'"
            ],
            "application/vnd.google.colaboratory.intrinsic+json": {
              "type": "string"
            }
          },
          "metadata": {},
          "execution_count": 50
        }
      ]
    },
    {
      "cell_type": "code",
      "source": [
        "print(generate(model,\"it was simple\",2, D))"
      ],
      "metadata": {
        "colab": {
          "base_uri": "https://localhost:8080/"
        },
        "id": "l6JL33eQEWy0",
        "outputId": "13a84e5d-a05a-4a9f-92e2-e186cbc0de0b"
      },
      "execution_count": 51,
      "outputs": [
        {
          "output_type": "stream",
          "name": "stdout",
          "text": [
            "1/1 [==============================] - 0s 36ms/step\n",
            "1/1 [==============================] - 0s 33ms/step\n",
            "it was simple matter with\n"
          ]
        }
      ]
    },
    {
      "cell_type": "code",
      "source": [
        "print(generate(model,\"I\",2, D))"
      ],
      "metadata": {
        "colab": {
          "base_uri": "https://localhost:8080/"
        },
        "id": "9HY07V87lXEu",
        "outputId": "e3f5c922-0ca9-4fd2-d812-c6fcb63af15c"
      },
      "execution_count": 52,
      "outputs": [
        {
          "output_type": "stream",
          "name": "stdout",
          "text": [
            "1/1 [==============================] - 0s 59ms/step\n",
            "1/1 [==============================] - 0s 38ms/step\n",
            "I m sure\n"
          ]
        }
      ]
    },
    {
      "cell_type": "code",
      "source": [
        "print(generate(model,\"we play\",2, D))"
      ],
      "metadata": {
        "colab": {
          "base_uri": "https://localhost:8080/"
        },
        "id": "TQdEcRP2lfl8",
        "outputId": "64fb9628-79ed-4c43-b484-252f9f988361"
      },
      "execution_count": 53,
      "outputs": [
        {
          "output_type": "stream",
          "name": "stdout",
          "text": [
            "1/1 [==============================] - 0s 29ms/step\n",
            "1/1 [==============================] - 0s 27ms/step\n",
            "we play with his\n"
          ]
        }
      ]
    },
    {
      "cell_type": "code",
      "source": [
        "print(generate(model,\"my\",3, D))"
      ],
      "metadata": {
        "colab": {
          "base_uri": "https://localhost:8080/"
        },
        "id": "FZeX-fzolulC",
        "outputId": "3fd77d72-11a9-4bb3-a7f7-92e67c6bb497"
      },
      "execution_count": 54,
      "outputs": [
        {
          "output_type": "stream",
          "name": "stdout",
          "text": [
            "1/1 [==============================] - 0s 46ms/step\n",
            "1/1 [==============================] - 0s 27ms/step\n",
            "1/1 [==============================] - 0s 32ms/step\n",
            "my parents and he\n"
          ]
        }
      ]
    }
  ]
}